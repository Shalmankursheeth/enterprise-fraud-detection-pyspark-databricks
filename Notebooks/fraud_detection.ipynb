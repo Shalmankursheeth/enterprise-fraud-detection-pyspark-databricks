{
 "cells": [
  {
   "cell_type": "code",
   "execution_count": 0,
   "metadata": {
    "application/vnd.databricks.v1+cell": {
     "cellMetadata": {
      "byteLimit": 2048000,
      "rowLimit": 10000
     },
     "inputWidgets": {},
     "nuid": "a3712e0b-a39c-4fbd-8ffc-57468c35657e",
     "showTitle": false,
     "tableResultSettingsMap": {},
     "title": ""
    }
   },
   "outputs": [
    {
     "output_type": "stream",
     "name": "stdout",
     "output_type": "stream",
     "text": [
      "Spark version: 4.0.0\n+---+\n| id|\n+---+\n|  1|\n|  2|\n|  3|\n+---+\n\n"
     ]
    }
   ],
   "source": [
    "# Cell 0 - env check (no sparkContext usage)\n",
    "from pyspark.sql import SparkSession\n",
    "spark = SparkSession.builder.appName(\"CE_Fraud\").getOrCreate()\n",
    "print(\"Spark version:\", spark.version)\n",
    "# Show a tiny smoke test\n",
    "spark.range(1,4).show()\n"
   ]
  },
  {
   "cell_type": "code",
   "execution_count": 0,
   "metadata": {
    "application/vnd.databricks.v1+cell": {
     "cellMetadata": {
      "byteLimit": 2048000,
      "rowLimit": 10000
     },
     "inputWidgets": {},
     "nuid": "c7884c51-f9ce-453e-a0d2-4bbca6f99760",
     "showTitle": false,
     "tableResultSettingsMap": {},
     "title": ""
    }
   },
   "outputs": [
    {
     "output_type": "stream",
     "name": "stdout",
     "output_type": "stream",
     "text": [
      "Imports OK\n"
     ]
    }
   ],
   "source": [
    "# Cell 1 - imports\n",
    "import pandas as pd\n",
    "import numpy as np\n",
    "from pyspark.sql import functions as F\n",
    "from pyspark.sql.types import DoubleType, IntegerType\n",
    "from pyspark.ml.classification import RandomForestClassifier\n",
    "from pyspark.ml.evaluation import BinaryClassificationEvaluator\n",
    "from pyspark.ml.tuning import TrainValidationSplit, ParamGridBuilder\n",
    "from pyspark.ml import Pipeline, PipelineModel\n",
    "from pyspark.ml.linalg import Vectors, VectorUDT\n",
    "from pyspark.sql.functions import array\n",
    "import os\n",
    "from pyspark.ml.classification import RandomForestClassifier\n",
    "from pyspark.ml import Pipeline\n",
    "from pyspark.ml.tuning import ParamGridBuilder, TrainValidationSplit\n",
    "from pyspark.ml.evaluation import BinaryClassificationEvaluator\n",
    "\n",
    "print(\"Imports OK\")\n"
   ]
  },
  {
   "cell_type": "code",
   "execution_count": 0,
   "metadata": {
    "application/vnd.databricks.v1+cell": {
     "cellMetadata": {
      "byteLimit": 2048000,
      "rowLimit": 10000
     },
     "inputWidgets": {},
     "nuid": "ed14e9d1-be91-4229-81ce-e2c28c670350",
     "showTitle": false,
     "tableResultSettingsMap": {},
     "title": ""
    }
   },
   "outputs": [
    {
     "output_type": "stream",
     "name": "stdout",
     "output_type": "stream",
     "text": [
      "pandas shape: (984, 30)\nspark rows: 984\nroot\n |-- V1: double (nullable = true)\n |-- V2: double (nullable = true)\n |-- V3: double (nullable = true)\n |-- V4: double (nullable = true)\n |-- V5: double (nullable = true)\n |-- V6: double (nullable = true)\n |-- V7: double (nullable = true)\n |-- V8: double (nullable = true)\n |-- V9: double (nullable = true)\n |-- V10: double (nullable = true)\n |-- V11: double (nullable = true)\n |-- V12: double (nullable = true)\n |-- V13: double (nullable = true)\n |-- V14: double (nullable = true)\n |-- V15: double (nullable = true)\n |-- V16: double (nullable = true)\n |-- V17: double (nullable = true)\n |-- V18: double (nullable = true)\n |-- V19: double (nullable = true)\n |-- V20: double (nullable = true)\n |-- V21: double (nullable = true)\n |-- V22: double (nullable = true)\n |-- V23: double (nullable = true)\n |-- V24: double (nullable = true)\n |-- V25: double (nullable = true)\n |-- V26: double (nullable = true)\n |-- V27: double (nullable = true)\n |-- V28: double (nullable = true)\n |-- Amount: double (nullable = true)\n |-- Class: long (nullable = true)\n\n+-----+-----+\n|Class|count|\n+-----+-----+\n|    0|  492|\n|    1|  492|\n+-----+-----+\n\n"
     ]
    }
   ],
   "source": [
    "# Cell 2 - load via pandas then convert to spark (most reliable for CE)\n",
    "url = \"https://raw.githubusercontent.com/mayankyadav23/Credit-Card-Fraud-Detection/main/balanced_dataset.csv\"\n",
    "pdf = pd.read_csv(url)\n",
    "# Drop irrelevant columns if present\n",
    "pdf = pdf.drop(columns=['Time','Unnamed: 0'], errors='ignore')\n",
    "print(\"pandas shape:\", pdf.shape)\n",
    "# convert to spark\n",
    "df = spark.createDataFrame(pdf)\n",
    "#df = df.cache()\n",
    "print(\"spark rows:\", df.count())\n",
    "df.printSchema()\n",
    "# show class balance\n",
    "df.groupBy(\"Class\").count().show()\n"
   ]
  },
  {
   "cell_type": "code",
   "execution_count": 0,
   "metadata": {
    "application/vnd.databricks.v1+cell": {
     "cellMetadata": {
      "byteLimit": 2048000,
      "rowLimit": 10000
     },
     "inputWidgets": {},
     "nuid": "8f40af6c-68eb-45ff-8b58-2693f27675fa",
     "showTitle": false,
     "tableResultSettingsMap": {},
     "title": ""
    }
   },
   "outputs": [
    {
     "output_type": "stream",
     "name": "stdout",
     "output_type": "stream",
     "text": [
      "After cleaning rows: 984\n"
     ]
    }
   ],
   "source": [
    "# Cell 3 - cast numeric columns & label, and remove any columns that are non-numeric\n",
    "label_col = \"Class\"\n",
    "# cast all columns (except label) to double safely\n",
    "for c, t in df.dtypes:\n",
    "    if c != label_col:\n",
    "        df = df.withColumn(c, F.col(c).cast(DoubleType()))\n",
    "# cast label explicitly to integer\n",
    "df = df.withColumn(label_col, F.col(label_col).cast(IntegerType()))\n",
    "# drop rows with nulls (dataset is small; if many nulls consider imputation instead)\n",
    "nulls = df.select([F.count(F.when(F.col(c).isNull(), c)).alias(c) for c in df.columns]).toPandas().T\n",
    "if nulls[0].sum() > 0:\n",
    "    print(\"Null counts found; dropping rows with nulls\")\n",
    "    df = df.na.drop()\n",
    "print(\"After cleaning rows:\", df.count())\n"
   ]
  },
  {
   "cell_type": "code",
   "execution_count": 0,
   "metadata": {
    "application/vnd.databricks.v1+cell": {
     "cellMetadata": {
      "byteLimit": 2048000,
      "rowLimit": 10000
     },
     "inputWidgets": {},
     "nuid": "3f1363b4-964e-46a2-87fd-e09ec26cf49c",
     "showTitle": false,
     "tableResultSettingsMap": {},
     "title": ""
    }
   },
   "outputs": [
    {
     "output_type": "stream",
     "name": "stdout",
     "output_type": "stream",
     "text": [
      "Using V cols count: 28\nFinal feature columns count: 32\n"
     ]
    }
   ],
   "source": [
    "# Cell 4 - create 3 derived features to improve signal without exploding feature set\n",
    "# 1) absolute amount, 2) log1p(amount), 3) transaction magnitude (L2 norm of V1..V28)\n",
    "# Adjust features present in your df if shapes differ\n",
    "feature_base = [c for c in df.columns if c not in (label_col,)]\n",
    "# Ensure V1..V28 exist; fallback to available numeric features\n",
    "v_cols = [c for c in feature_base if c.startswith(\"V\")]  # V1..V28 typical\n",
    "print(\"Using V cols count:\", len(v_cols))\n",
    "\n",
    "# derived features\n",
    "df = df.withColumn(\"Amount_abs\", F.abs(F.col(\"Amount\")))\n",
    "df = df.withColumn(\"Amount_log1p\", F.log1p(F.abs(F.col(\"Amount\"))))\n",
    "\n",
    "# transaction magnitude: sqrt(sum(Vi^2)) as a single scalar\n",
    "sq_sum = None\n",
    "for c in v_cols:\n",
    "    if sq_sum is None:\n",
    "        sq_sum = F.col(c) * F.col(c)\n",
    "    else:\n",
    "        sq_sum = sq_sum + (F.col(c) * F.col(c))\n",
    "if sq_sum is None:\n",
    "    # fallback: use Amount as magnitude if V cols missing\n",
    "    df = df.withColumn(\"txn_magnitude\", F.abs(F.col(\"Amount\")))\n",
    "else:\n",
    "    df = df.withColumn(\"txn_magnitude\", F.sqrt(sq_sum))\n",
    "\n",
    "# final feature columns we'll use (keeps size moderate)\n",
    "feature_cols = v_cols + [\"Amount\", \"Amount_abs\", \"Amount_log1p\", \"txn_magnitude\"]\n",
    "print(\"Final feature columns count:\", len(feature_cols))\n"
   ]
  },
  {
   "cell_type": "code",
   "execution_count": 0,
   "metadata": {
    "application/vnd.databricks.v1+cell": {
     "cellMetadata": {
      "byteLimit": 2048000,
      "rowLimit": 10000
     },
     "inputWidgets": {},
     "nuid": "b5e4410d-ba1e-4b68-b9d1-36915c039ad0",
     "showTitle": false,
     "tableResultSettingsMap": {},
     "title": ""
    }
   },
   "outputs": [
    {
     "output_type": "stream",
     "name": "stdout",
     "output_type": "stream",
     "text": [
      "+-------------------------------------------------------------------------------------------------------------------------------------------------------------------------------------------------------------------------------------------------------------------------------------------------------------------------------------------------------------------------------------------------------------------------------------------------------------------------------------------------------------------------------------------------------------------------------------------+-----+\n|features                                                                                                                                                                                                                                                                                                                                                                                                                                                                                                                                                                                   |Class|\n+-------------------------------------------------------------------------------------------------------------------------------------------------------------------------------------------------------------------------------------------------------------------------------------------------------------------------------------------------------------------------------------------------------------------------------------------------------------------------------------------------------------------------------------------------------------------------------------------+-----+\n|[-2.8166944660350697,-3.2139300190191697,-3.48063150186208,1.92876789087202,-4.1257885401701895,1.51040160455441,6.785640209726191,-0.3865677064853909,-1.24604166042507,-2.38831088450279,-1.0301831631662,-1.20753630268441,-0.9490092579047972,-0.0324126359911328,0.2494098716278339,0.422097301634302,0.678351319437844,1.19223767146088,-0.788146482625048,3.38359230767975,1.17904612493844,0.337434241509524,3.92074215301939,-0.430975821766475,0.4137553262308079,-0.612745469966236,-0.593538010693538,0.161113379571322,1714.0,1714.0,7.44716835960004,11.935337721945293]     |0    |\n|[2.06756342787221,-0.6596381130431371,-2.45849915636592,-0.3042911680278179,-0.0019054947324822,-1.82110516645695,0.704464628505685,-0.7166055581545849,-1.1177547833871,1.00764851035338,-1.05529472548617,-0.389457039806999,-0.310720468550035,0.780565561101265,-0.341023529944164,-2.2667717847905897,0.220348022711714,0.653332016605646,-0.69986144397062,-0.467902137665914,-0.0486224358299189,0.27341953839467,-0.17088102245118,0.116266700371986,0.455343515809216,1.00780214478391,-0.1422576078072349,-0.0756980907835985,106.0,106.0,4.672828834461906,5.216929687877396]   |0    |\n|[-0.992594550582059,0.399507086335451,1.05257176756963,0.574845978670742,1.30858962482318,0.0180822268745689,0.817577527634024,0.078250829449667,-1.1790873071186698,-0.239778871790307,0.170102073062541,0.169274779345968,0.0770738804883934,0.624421669489773,0.4298471965792879,0.187914107666426,-0.7631511225203331,0.549279079893881,1.56434354999558,0.412789420795226,-0.271118917526671,-1.1824351142567,-0.0169216346226437,-1.02807986202259,0.4287747385877629,-0.5475548707785339,0.0081291267580969,0.0722692398923229,83.08,83.08,4.431768726568696,3.689344993329915]     |0    |\n|[0.9197247881096792,-2.5418419288068,-3.28380892112311,-0.0636525670064048,-0.209552067642951,-0.98506827086526,1.43468320664601,-0.7423649881969091,-1.54912568587925,0.8761648457252379,0.370615811833924,0.6391514289797591,0.689163403367883,0.903624517035269,-1.02993679864827,-1.89306549563473,-0.240320030948786,1.31806708273919,-0.4220289783215399,0.8176307906253331,0.338952055309083,0.0584579819178975,-0.773997766263787,-0.3679534649032929,0.303597923415838,0.954495587665874,-0.252335369297425,0.0138496536722015,695.96,695.96,6.546728020304541,5.9940658844992205]|0    |\n|[0.893150481189646,-0.45004923940224,1.51225513314454,1.71286129787114,-0.955362923648088,0.990251278703712,-0.7457127975188969,0.4389683296146699,1.06487372177088,-0.300724460463027,0.8232419105918058,2.02143413944495,0.25686471874228,-0.775089024050833,-2.33168924512093,-0.8928658241446371,0.489878606226431,-0.705309276139285,0.215540407159078,-0.0398702777128903,-0.151390992456515,-0.0737945379261071,-0.026115411408201,0.2584037035589239,0.391343471261552,-0.4172906577670529,0.0946980961069666,0.0350656655435809,70.0,70.0,4.2626798770413155,4.79280676416815]    |0    |\n+-------------------------------------------------------------------------------------------------------------------------------------------------------------------------------------------------------------------------------------------------------------------------------------------------------------------------------------------------------------------------------------------------------------------------------------------------------------------------------------------------------------------------------------------------------------------------------------------+-----+\nonly showing top 5 rows\n"
     ]
    }
   ],
   "source": [
    "# Cell 5 - convert numeric feature columns into a DenseVector column 'features' via UDF on array\n",
    "# Create an array column first (this is fully supported)\n",
    "df = df.withColumn(\"features_array\", array(*[F.col(c).cast(DoubleType()) for c in feature_cols]))\n",
    "\n",
    "# UDF: convert array -> DenseVector (VectorUDT)\n",
    "from pyspark.sql.functions import udf\n",
    "def arr_to_vector(arr):\n",
    "    # ensure no None values; replace with 0.0\n",
    "    arr = [0.0 if x is None else float(x) for x in arr]\n",
    "    return Vectors.dense(arr)\n",
    "arr_to_vector_udf = udf(arr_to_vector, VectorUDT())\n",
    "\n",
    "df = df.withColumn(\"features\", arr_to_vector_udf(F.col(\"features_array\"))).select(\"features\", label_col)\n",
    "df.show(5, truncate=False)\n"
   ]
  },
  {
   "cell_type": "code",
   "execution_count": 0,
   "metadata": {
    "application/vnd.databricks.v1+cell": {
     "cellMetadata": {
      "byteLimit": 2048000,
      "rowLimit": 10000
     },
     "inputWidgets": {},
     "nuid": "52687564-252e-42f5-8b43-f3c030306155",
     "showTitle": false,
     "tableResultSettingsMap": {},
     "title": ""
    }
   },
   "outputs": [
    {
     "output_type": "stream",
     "name": "stdout",
     "output_type": "stream",
     "text": [
      "Train rows: 787 Test rows: 197\n"
     ]
    }
   ],
   "source": [
    "# Cell 6 - split\n",
    "train_df, test_df = df.randomSplit([0.8, 0.2], seed=42)\n",
    "print(\"Train rows:\", train_df.count(), \"Test rows:\", test_df.count())\n"
   ]
  },
  {
   "cell_type": "code",
   "execution_count": 0,
   "metadata": {
    "application/vnd.databricks.v1+cell": {
     "cellMetadata": {
      "byteLimit": 2048000,
      "rowLimit": 10000
     },
     "inputWidgets": {},
     "nuid": "4a7fb760-5328-4f1b-8ca3-1851bf6f6376",
     "showTitle": false,
     "tableResultSettingsMap": {},
     "title": ""
    }
   },
   "outputs": [],
   "source": [
    "# Convert to pandas for sklearn modeling\n",
    "train_pd = train_df.toPandas()\n",
    "test_pd = test_df.toPandas()\n",
    "\n",
    "# Split features and labels\n",
    "X_train = np.stack(train_pd[\"features\"].apply(lambda v: v.toArray()))\n",
    "y_train = train_pd[\"Class\"].values\n",
    "\n",
    "X_test = np.stack(test_pd[\"features\"].apply(lambda v: v.toArray()))\n",
    "y_test = test_pd[\"Class\"].values\n"
   ]
  },
  {
   "cell_type": "code",
   "execution_count": 0,
   "metadata": {
    "application/vnd.databricks.v1+cell": {
     "cellMetadata": {
      "byteLimit": 2048000,
      "rowLimit": 10000
     },
     "inputWidgets": {},
     "nuid": "6f0975f6-3169-482d-bc59-a8a4c60ac988",
     "showTitle": false,
     "tableResultSettingsMap": {},
     "title": ""
    }
   },
   "outputs": [
    {
     "output_type": "stream",
     "name": "stdout",
     "output_type": "stream",
     "text": [
      "\u001B[43mNote: you may need to restart the kernel using %restart_python or dbutils.library.restartPython() to use updated packages.\u001B[0m\n"
     ]
    },
    {
     "output_type": "stream",
     "name": "stderr",
     "output_type": "stream",
     "text": [
      "Exception ignored on calling ctypes callback function: <function _ThreadpoolInfo._find_modules_with_dl_iterate_phdr.<locals>.match_module_callback at 0x7f662ed81b20>\nTraceback (most recent call last):\n  File \"/databricks/python/lib/python3.12/site-packages/threadpoolctl.py\", line 400, in match_module_callback\n    self._make_module_from_path(filepath)\n  File \"/databricks/python/lib/python3.12/site-packages/threadpoolctl.py\", line 515, in _make_module_from_path\n    module = module_class(filepath, prefix, user_api, internal_api)\n             ^^^^^^^^^^^^^^^^^^^^^^^^^^^^^^^^^^^^^^^^^^^^^^^^^^^^^^\n  File \"/databricks/python/lib/python3.12/site-packages/threadpoolctl.py\", line 606, in __init__\n    self.version = self.get_version()\n                   ^^^^^^^^^^^^^^^^^^\n  File \"/databricks/python/lib/python3.12/site-packages/threadpoolctl.py\", line 646, in get_version\n    config = get_config().split()\n             ^^^^^^^^^^^^^^^^^^\nAttributeError: 'NoneType' object has no attribute 'split'\n"
     ]
    },
    {
     "output_type": "stream",
     "name": "stdout",
     "output_type": "stream",
     "text": [
      "[LightGBM] [Info] Number of positive: 393, number of negative: 394\n[LightGBM] [Info] Auto-choosing col-wise multi-threading, the overhead of testing was 0.000422 seconds.\nYou can set `force_col_wise=true` to remove the overhead.\n[LightGBM] [Info] Total Bins 8159\n[LightGBM] [Info] Number of data points in the train set: 787, number of used features: 32\n[LightGBM] [Info] [binary:BoostFromScore]: pavg=0.499365 -> initscore=-0.002541\n[LightGBM] [Info] Start training from score -0.002541\n[LightGBM] [Warning] No further splits with positive gain, best gain: -inf\n[LightGBM] [Warning] No further splits with positive gain, best gain: -inf\n[LightGBM] [Warning] No further splits with positive gain, best gain: -inf\n[LightGBM] [Warning] No further splits with positive gain, best gain: -inf\n[LightGBM] [Warning] No further splits with positive gain, best gain: -inf\n[LightGBM] [Warning] No further splits with positive gain, best gain: -inf\n[LightGBM] [Warning] No further splits with positive gain, best gain: -inf\n[LightGBM] [Warning] No further splits with positive gain, best gain: -inf\n[LightGBM] [Warning] No further splits with positive gain, best gain: -inf\n[LightGBM] [Warning] No further splits with positive gain, best gain: -inf\n[LightGBM] [Warning] No further splits with positive gain, best gain: -inf\n[LightGBM] [Warning] No further splits with positive gain, best gain: -inf\n[LightGBM] [Warning] No further splits with positive gain, best gain: -inf\n[LightGBM] [Warning] No further splits with positive gain, best gain: -inf\n[LightGBM] [Warning] No further splits with positive gain, best gain: -inf\n[LightGBM] [Warning] No further splits with positive gain, best gain: -inf\n[LightGBM] [Warning] No further splits with positive gain, best gain: -inf\n[LightGBM] [Warning] No further splits with positive gain, best gain: -inf\n[LightGBM] [Warning] No further splits with positive gain, best gain: -inf\n[LightGBM] [Warning] No further splits with positive gain, best gain: -inf\n[LightGBM] [Warning] No further splits with positive gain, best gain: -inf\n[LightGBM] [Warning] No further splits with positive gain, best gain: -inf\n[LightGBM] [Warning] No further splits with positive gain, best gain: -inf\n[LightGBM] [Warning] No further splits with positive gain, best gain: -inf\n[LightGBM] [Warning] No further splits with positive gain, best gain: -inf\n[LightGBM] [Warning] No further splits with positive gain, best gain: -inf\n[LightGBM] [Warning] No further splits with positive gain, best gain: -inf\n[LightGBM] [Warning] No further splits with positive gain, best gain: -inf\n[LightGBM] [Warning] No further splits with positive gain, best gain: -inf\n[LightGBM] [Warning] No further splits with positive gain, best gain: -inf\n[LightGBM] [Warning] No further splits with positive gain, best gain: -inf\n[LightGBM] [Warning] No further splits with positive gain, best gain: -inf\n[LightGBM] [Warning] No further splits with positive gain, best gain: -inf\n[LightGBM] [Warning] No further splits with positive gain, best gain: -inf\n[LightGBM] [Warning] No further splits with positive gain, best gain: -inf\n[LightGBM] [Warning] No further splits with positive gain, best gain: -inf\n[LightGBM] [Warning] No further splits with positive gain, best gain: -inf\n[LightGBM] [Warning] No further splits with positive gain, best gain: -inf\n[LightGBM] [Warning] No further splits with positive gain, best gain: -inf\n[LightGBM] [Warning] No further splits with positive gain, best gain: -inf\n[LightGBM] [Warning] No further splits with positive gain, best gain: -inf\n[LightGBM] [Warning] No further splits with positive gain, best gain: -inf\n[LightGBM] [Warning] No further splits with positive gain, best gain: -inf\n[LightGBM] [Warning] No further splits with positive gain, best gain: -inf\n[LightGBM] [Warning] No further splits with positive gain, best gain: -inf\n[LightGBM] [Warning] No further splits with positive gain, best gain: -inf\n[LightGBM] [Warning] No further splits with positive gain, best gain: -inf\n[LightGBM] [Warning] No further splits with positive gain, best gain: -inf\n[LightGBM] [Warning] No further splits with positive gain, best gain: -inf\n[LightGBM] [Warning] No further splits with positive gain, best gain: -inf\n[LightGBM] [Warning] No further splits with positive gain, best gain: -inf\n[LightGBM] [Warning] No further splits with positive gain, best gain: -inf\n[LightGBM] [Warning] No further splits with positive gain, best gain: -inf\n[LightGBM] [Warning] No further splits with positive gain, best gain: -inf\n[LightGBM] [Warning] No further splits with positive gain, best gain: -inf\n[LightGBM] [Warning] No further splits with positive gain, best gain: -inf\n[LightGBM] [Warning] No further splits with positive gain, best gain: -inf\n[LightGBM] [Warning] No further splits with positive gain, best gain: -inf\n[LightGBM] [Warning] No further splits with positive gain, best gain: -inf\n[LightGBM] [Warning] No further splits with positive gain, best gain: -inf\n[LightGBM] [Warning] No further splits with positive gain, best gain: -inf\n[LightGBM] [Warning] No further splits with positive gain, best gain: -inf\n[LightGBM] [Warning] No further splits with positive gain, best gain: -inf\n[LightGBM] [Warning] No further splits with positive gain, best gain: -inf\n[LightGBM] [Warning] No further splits with positive gain, best gain: -inf\n[LightGBM] [Warning] No further splits with positive gain, best gain: -inf\n[LightGBM] [Warning] No further splits with positive gain, best gain: -inf\n[LightGBM] [Warning] No further splits with positive gain, best gain: -inf\n[LightGBM] [Warning] No further splits with positive gain, best gain: -inf\n[LightGBM] [Warning] No further splits with positive gain, best gain: -inf\n[LightGBM] [Warning] No further splits with positive gain, best gain: -inf\n[LightGBM] [Warning] No further splits with positive gain, best gain: -inf\n[LightGBM] [Warning] No further splits with positive gain, best gain: -inf\n[LightGBM] [Warning] No further splits with positive gain, best gain: -inf\n[LightGBM] [Warning] No further splits with positive gain, best gain: -inf\n[LightGBM] [Warning] No further splits with positive gain, best gain: -inf\n[LightGBM] [Warning] No further splits with positive gain, best gain: -inf\n[LightGBM] [Warning] No further splits with positive gain, best gain: -inf\n[LightGBM] [Warning] No further splits with positive gain, best gain: -inf\n[LightGBM] [Warning] No further splits with positive gain, best gain: -inf\n[LightGBM] [Warning] No further splits with positive gain, best gain: -inf\n[LightGBM] [Warning] No further splits with positive gain, best gain: -inf\n[LightGBM] [Warning] No further splits with positive gain, best gain: -inf\n[LightGBM] [Warning] No further splits with positive gain, best gain: -inf\n[LightGBM] [Warning] No further splits with positive gain, best gain: -inf\n[LightGBM] [Warning] No further splits with positive gain, best gain: -inf\n[LightGBM] [Warning] No further splits with positive gain, best gain: -inf\n[LightGBM] [Warning] No further splits with positive gain, best gain: -inf\n[LightGBM] [Warning] No further splits with positive gain, best gain: -inf\n[LightGBM] [Warning] No further splits with positive gain, best gain: -inf\n[LightGBM] [Warning] No further splits with positive gain, best gain: -inf\n[LightGBM] [Warning] No further splits with positive gain, best gain: -inf\n[LightGBM] [Warning] No further splits with positive gain, best gain: -inf\n[LightGBM] [Warning] No further splits with positive gain, best gain: -inf\n[LightGBM] [Warning] No further splits with positive gain, best gain: -inf\n[LightGBM] [Warning] No further splits with positive gain, best gain: -inf\n[LightGBM] [Warning] No further splits with positive gain, best gain: -inf\n[LightGBM] [Warning] No further splits with positive gain, best gain: -inf\n[LightGBM] [Warning] No further splits with positive gain, best gain: -inf\n[LightGBM] [Warning] No further splits with positive gain, best gain: -inf\n[LightGBM] [Warning] No further splits with positive gain, best gain: -inf\n[LightGBM] [Warning] No further splits with positive gain, best gain: -inf\n[LightGBM] [Warning] No further splits with positive gain, best gain: -inf\n[LightGBM] [Warning] No further splits with positive gain, best gain: -inf\n[LightGBM] [Warning] No further splits with positive gain, best gain: -inf\n[LightGBM] [Warning] No further splits with positive gain, best gain: -inf\n[LightGBM] [Warning] No further splits with positive gain, best gain: -inf\n[LightGBM] [Warning] No further splits with positive gain, best gain: -inf\n[LightGBM] [Warning] No further splits with positive gain, best gain: -inf\n[LightGBM] [Warning] No further splits with positive gain, best gain: -inf\n[LightGBM] [Warning] No further splits with positive gain, best gain: -inf\n[LightGBM] [Warning] No further splits with positive gain, best gain: -inf\n[LightGBM] [Warning] No further splits with positive gain, best gain: -inf\n[LightGBM] [Warning] No further splits with positive gain, best gain: -inf\n[LightGBM] [Warning] No further splits with positive gain, best gain: -inf\n[LightGBM] [Warning] No further splits with positive gain, best gain: -inf\n[LightGBM] [Warning] No further splits with positive gain, best gain: -inf\n[LightGBM] [Warning] No further splits with positive gain, best gain: -inf\n[LightGBM] [Warning] No further splits with positive gain, best gain: -inf\n[LightGBM] [Warning] No further splits with positive gain, best gain: -inf\n[LightGBM] [Warning] No further splits with positive gain, best gain: -inf\n[LightGBM] [Warning] No further splits with positive gain, best gain: -inf\n[LightGBM] [Warning] No further splits with positive gain, best gain: -inf\n[LightGBM] [Warning] No further splits with positive gain, best gain: -inf\n[LightGBM] [Warning] No further splits with positive gain, best gain: -inf\n[LightGBM] [Warning] No further splits with positive gain, best gain: -inf\n[LightGBM] [Warning] No further splits with positive gain, best gain: -inf\n[LightGBM] [Warning] No further splits with positive gain, best gain: -inf\n[LightGBM] [Warning] No further splits with positive gain, best gain: -inf\n[LightGBM] [Warning] No further splits with positive gain, best gain: -inf\n[LightGBM] [Warning] No further splits with positive gain, best gain: -inf\n[LightGBM] [Warning] No further splits with positive gain, best gain: -inf\n[LightGBM] [Warning] No further splits with positive gain, best gain: -inf\n[LightGBM] [Warning] No further splits with positive gain, best gain: -inf\n[LightGBM] [Warning] No further splits with positive gain, best gain: -inf\n[LightGBM] [Warning] No further splits with positive gain, best gain: -inf\n[LightGBM] [Warning] No further splits with positive gain, best gain: -inf\n[LightGBM] [Warning] No further splits with positive gain, best gain: -inf\n[LightGBM] [Warning] No further splits with positive gain, best gain: -inf\n[LightGBM] [Warning] No further splits with positive gain, best gain: -inf\n[LightGBM] [Warning] No further splits with positive gain, best gain: -inf\n[LightGBM] [Warning] No further splits with positive gain, best gain: -inf\n[LightGBM] [Warning] No further splits with positive gain, best gain: -inf\n[LightGBM] [Warning] No further splits with positive gain, best gain: -inf\n[LightGBM] [Warning] No further splits with positive gain, best gain: -inf\n[LightGBM] [Warning] No further splits with positive gain, best gain: -inf\n[LightGBM] [Warning] No further splits with positive gain, best gain: -inf\n[LightGBM] [Warning] No further splits with positive gain, best gain: -inf\n[LightGBM] [Warning] No further splits with positive gain, best gain: -inf\n[LightGBM] [Warning] No further splits with positive gain, best gain: -inf\n[LightGBM] [Warning] No further splits with positive gain, best gain: -inf\n[LightGBM] [Warning] No further splits with positive gain, best gain: -inf\n[LightGBM] [Warning] No further splits with positive gain, best gain: -inf\n[LightGBM] [Warning] No further splits with positive gain, best gain: -inf\n[LightGBM] [Warning] No further splits with positive gain, best gain: -inf\n[LightGBM] [Warning] No further splits with positive gain, best gain: -inf\n[LightGBM] [Warning] No further splits with positive gain, best gain: -inf\n[LightGBM] [Warning] No further splits with positive gain, best gain: -inf\n[LightGBM] [Warning] No further splits with positive gain, best gain: -inf\n[LightGBM] [Warning] No further splits with positive gain, best gain: -inf\n[LightGBM] [Warning] No further splits with positive gain, best gain: -inf\n[LightGBM] [Warning] No further splits with positive gain, best gain: -inf\n[LightGBM] [Warning] No further splits with positive gain, best gain: -inf\n[LightGBM] [Warning] No further splits with positive gain, best gain: -inf\n[LightGBM] [Warning] No further splits with positive gain, best gain: -inf\n[LightGBM] [Warning] No further splits with positive gain, best gain: -inf\n[LightGBM] [Warning] No further splits with positive gain, best gain: -inf\n[LightGBM] [Warning] No further splits with positive gain, best gain: -inf\n[LightGBM] [Warning] No further splits with positive gain, best gain: -inf\n[LightGBM] [Warning] No further splits with positive gain, best gain: -inf\n[LightGBM] [Warning] No further splits with positive gain, best gain: -inf\n[LightGBM] [Warning] No further splits with positive gain, best gain: -inf\n[LightGBM] [Warning] No further splits with positive gain, best gain: -inf\n[LightGBM] [Warning] No further splits with positive gain, best gain: -inf\n[LightGBM] [Warning] No further splits with positive gain, best gain: -inf\n[LightGBM] [Warning] No further splits with positive gain, best gain: -inf\n[LightGBM] [Warning] No further splits with positive gain, best gain: -inf\n[LightGBM] [Warning] No further splits with positive gain, best gain: -inf\n[LightGBM] [Warning] No further splits with positive gain, best gain: -inf\n[LightGBM] [Warning] No further splits with positive gain, best gain: -inf\n[LightGBM] [Warning] No further splits with positive gain, best gain: -inf\n[LightGBM] [Warning] No further splits with positive gain, best gain: -inf\n[LightGBM] [Warning] No further splits with positive gain, best gain: -inf\n[LightGBM] [Warning] No further splits with positive gain, best gain: -inf\n[LightGBM] [Warning] No further splits with positive gain, best gain: -inf\n[LightGBM] [Warning] No further splits with positive gain, best gain: -inf\n[LightGBM] [Warning] No further splits with positive gain, best gain: -inf\n[LightGBM] [Warning] No further splits with positive gain, best gain: -inf\n[LightGBM] [Warning] No further splits with positive gain, best gain: -inf\n[LightGBM] [Warning] No further splits with positive gain, best gain: -inf\n[LightGBM] [Warning] No further splits with positive gain, best gain: -inf\n[LightGBM] [Warning] No further splits with positive gain, best gain: -inf\n[LightGBM] [Warning] No further splits with positive gain, best gain: -inf\n[LightGBM] [Warning] No further splits with positive gain, best gain: -inf\n[LightGBM] [Warning] No further splits with positive gain, best gain: -inf\n[LightGBM] [Warning] No further splits with positive gain, best gain: -inf\n[LightGBM] [Warning] No further splits with positive gain, best gain: -inf\n[LightGBM] [Warning] No further splits with positive gain, best gain: -inf\n[LightGBM] [Warning] No further splits with positive gain, best gain: -inf\n[LightGBM] [Warning] No further splits with positive gain, best gain: -inf\n[LightGBM] [Warning] No further splits with positive gain, best gain: -inf\n[LightGBM] [Warning] No further splits with positive gain, best gain: -inf\n[LightGBM] [Warning] No further splits with positive gain, best gain: -inf\n[LightGBM] [Warning] No further splits with positive gain, best gain: -inf\n[LightGBM] [Warning] No further splits with positive gain, best gain: -inf\n[LightGBM] [Warning] No further splits with positive gain, best gain: -inf\n[LightGBM] [Warning] No further splits with positive gain, best gain: -inf\n[LightGBM] [Warning] No further splits with positive gain, best gain: -inf\n[LightGBM] [Warning] No further splits with positive gain, best gain: -inf\n[LightGBM] [Warning] No further splits with positive gain, best gain: -inf\n[LightGBM] [Warning] No further splits with positive gain, best gain: -inf\n[LightGBM] [Warning] No further splits with positive gain, best gain: -inf\n[LightGBM] [Warning] No further splits with positive gain, best gain: -inf\n[LightGBM] [Warning] No further splits with positive gain, best gain: -inf\n[LightGBM] [Warning] No further splits with positive gain, best gain: -inf\n[LightGBM] [Warning] No further splits with positive gain, best gain: -inf\n[LightGBM] [Warning] No further splits with positive gain, best gain: -inf\n[LightGBM] [Warning] No further splits with positive gain, best gain: -inf\n[LightGBM] [Warning] No further splits with positive gain, best gain: -inf\n[LightGBM] [Warning] No further splits with positive gain, best gain: -inf\n[LightGBM] [Warning] No further splits with positive gain, best gain: -inf\n[LightGBM] [Warning] No further splits with positive gain, best gain: -inf\n[LightGBM] [Warning] No further splits with positive gain, best gain: -inf\n[LightGBM] [Warning] No further splits with positive gain, best gain: -inf\n[LightGBM] [Warning] No further splits with positive gain, best gain: -inf\n[LightGBM] [Warning] No further splits with positive gain, best gain: -inf\n[LightGBM] [Warning] No further splits with positive gain, best gain: -inf\n[LightGBM] [Warning] No further splits with positive gain, best gain: -inf\n[LightGBM] [Warning] No further splits with positive gain, best gain: -inf\n[LightGBM] [Warning] No further splits with positive gain, best gain: -inf\n[LightGBM] [Warning] No further splits with positive gain, best gain: -inf\n[LightGBM] [Warning] No further splits with positive gain, best gain: -inf\n[LightGBM] [Warning] No further splits with positive gain, best gain: -inf\n[LightGBM] [Warning] No further splits with positive gain, best gain: -inf\n[LightGBM] [Warning] No further splits with positive gain, best gain: -inf\n[LightGBM] [Warning] No further splits with positive gain, best gain: -inf\n[LightGBM] [Warning] No further splits with positive gain, best gain: -inf\nAUC: 0.9864976293547723\n              precision    recall  f1-score   support\n\n           0       0.96      0.97      0.96        98\n           1       0.97      0.96      0.96        99\n\n    accuracy                           0.96       197\n   macro avg       0.96      0.96      0.96       197\nweighted avg       0.96      0.96      0.96       197\n\nConfusion Matrix:\n [[95  3]\n [ 4 95]]\n"
     ]
    }
   ],
   "source": [
    "!pip install lightgbm scikit-learn --quiet\n",
    "\n",
    "import lightgbm as lgb\n",
    "from sklearn.metrics import classification_report, confusion_matrix, roc_auc_score\n",
    "\n",
    "# Handle class imbalance with built-in weights\n",
    "neg, pos = np.bincount(y_train)\n",
    "scale_pos_weight = neg / pos\n",
    "\n",
    "model = lgb.LGBMClassifier(\n",
    "    n_estimators=300,\n",
    "    learning_rate=0.05,\n",
    "    max_depth=8,\n",
    "    scale_pos_weight=scale_pos_weight,\n",
    "    random_state=42,\n",
    "    n_jobs=-1\n",
    ")\n",
    "\n",
    "model.fit(X_train, y_train)\n",
    "\n",
    "# Predict\n",
    "y_pred = model.predict(X_test)\n",
    "y_prob = model.predict_proba(X_test)[:, 1]\n",
    "\n",
    "# Metrics\n",
    "print(\"AUC:\", roc_auc_score(y_test, y_prob))\n",
    "print(classification_report(y_test, y_pred))\n",
    "print(\"Confusion Matrix:\\n\", confusion_matrix(y_test, y_pred))\n"
   ]
  },
  {
   "cell_type": "code",
   "execution_count": 0,
   "metadata": {
    "application/vnd.databricks.v1+cell": {
     "cellMetadata": {
      "byteLimit": 2048000,
      "rowLimit": 10000
     },
     "inputWidgets": {},
     "nuid": "a0844736-2d81-4f7e-90d1-966b6bba1a2b",
     "showTitle": false,
     "tableResultSettingsMap": {},
     "title": ""
    }
   },
   "outputs": [
    {
     "output_type": "display_data",
     "data": {
      "image/png": "[encoded data removed]",
      "text/plain": [
       "<Figure size 1000x600 with 1 Axes>"
      ]
     },
     "metadata": {},
     "output_type": "display_data"
    }
   ],
   "source": [
    "import matplotlib.pyplot as plt\n",
    "import pandas as pd\n",
    "\n",
    "importance = model.feature_importances_\n",
    "feat_df = pd.DataFrame({\n",
    "    \"feature\": feature_cols,\n",
    "    \"importance\": importance\n",
    "}).sort_values(by=\"importance\", ascending=False)\n",
    "\n",
    "plt.figure(figsize=(10,6))\n",
    "plt.barh(feat_df[\"feature\"][:20], feat_df[\"importance\"][:20])\n",
    "plt.gca().invert_yaxis()\n",
    "plt.title(\"Top 20 Feature Importances\")\n",
    "plt.show()\n"
   ]
  },
  {
   "cell_type": "code",
   "execution_count": 0,
   "metadata": {
    "application/vnd.databricks.v1+cell": {
     "cellMetadata": {
      "byteLimit": 2048000,
      "rowLimit": 10000
     },
     "inputWidgets": {},
     "nuid": "661b7e6e-d898-4e01-aa26-d8f067db60c2",
     "showTitle": false,
     "tableResultSettingsMap": {},
     "title": ""
    }
   },
   "outputs": [
    {
     "output_type": "stream",
     "name": "stdout",
     "output_type": "stream",
     "text": [
      "\u001B[43mNote: you may need to restart the kernel using %restart_python or dbutils.library.restartPython() to use updated packages.\u001B[0m\n"
     ]
    },
    {
     "output_type": "stream",
     "name": "stderr",
     "output_type": "stream",
     "text": [
      "/local_disk0/.ephemeral_nfs/envs/pythonEnv-d92e7d6d-7030-4be0-a0a1-9658da672be0/lib/python3.12/site-packages/shap/explainers/_tree.py:583: UserWarning: LightGBM binary classifier with TreeExplainer shap values output has changed to a list of ndarray\n  warnings.warn(\n"
     ]
    },
    {
     "output_type": "display_data",
     "data": {
      "image/png": "[encoded data removed]",
      "text/plain": [
       "<Figure size 800x950 with 2 Axes>"
      ]
     },
     "metadata": {},
     "output_type": "display_data"
    }
   ],
   "source": [
    "!pip install shap --quiet\n",
    "import shap\n",
    "\n",
    "explainer = shap.TreeExplainer(model)\n",
    "shap_values = explainer.shap_values(X_test[:100])\n",
    "\n",
    "shap.summary_plot(shap_values, X_test[:100], feature_names=feature_cols)\n"
   ]
  },
  {
   "cell_type": "code",
   "execution_count": 0,
   "metadata": {
    "application/vnd.databricks.v1+cell": {
     "cellMetadata": {
      "byteLimit": 2048000,
      "rowLimit": 10000
     },
     "inputWidgets": {},
     "nuid": "0a54a11f-3527-4b42-923d-b0e57593ac6a",
     "showTitle": false,
     "tableResultSettingsMap": {},
     "title": ""
    }
   },
   "outputs": [
    {
     "output_type": "stream",
     "name": "stdout",
     "output_type": "stream",
     "text": [
      "Model saved at fraud_model_gradboost_lightgbm.pkl\n"
     ]
    }
   ],
   "source": [
    "import joblib\n",
    "joblib.dump(model, \"fraud_model_gradboost_lightgbm.pkl\")\n",
    "print(\"Model saved at fraud_model_gradboost_lightgbm.pkl\")\n"
   ]
  },
  {
   "cell_type": "code",
   "execution_count": 0,
   "metadata": {
    "application/vnd.databricks.v1+cell": {
     "cellMetadata": {
      "byteLimit": 2048000,
      "rowLimit": 10000
     },
     "inputWidgets": {},
     "nuid": "271dac50-dffa-4f7a-9d07-a1266a273712",
     "showTitle": false,
     "tableResultSettingsMap": {},
     "title": ""
    }
   },
   "outputs": [
    {
     "output_type": "stream",
     "name": "stderr",
     "output_type": "stream",
     "text": [
      "[I 2025-08-30 11:37:13,432] A new study created in memory with name: no-name-a2b5f848-0fc3-4d22-b3ad-3dab38898e5f\n"
     ]
    },
    {
     "output_type": "stream",
     "name": "stdout",
     "output_type": "stream",
     "text": [
      "Training until validation scores don't improve for 50 rounds\nEarly stopping, best iteration is:\n[85]\tvalid_0's binary_logloss: 0.199991\nTraining until validation scores don't improve for 50 rounds\nEarly stopping, best iteration is:\n[105]\tvalid_0's binary_logloss: 0.187962\nTraining until validation scores don't improve for 50 rounds\n"
     ]
    },
    {
     "output_type": "stream",
     "name": "stderr",
     "output_type": "stream",
     "text": [
      "[I 2025-08-30 11:37:15,686] Trial 0 finished with value: 0.973255661327452 and parameters: {'n_estimators': 196, 'learning_rate': 0.03848330636602695, 'num_leaves': 227, 'max_depth': 11, 'min_child_samples': 5, 'subsample': 0.6359291879603652, 'colsample_bytree': 0.8271129985289583, 'reg_alpha': 1.1073072198858385e-06, 'reg_lambda': 4.738015006205115e-05}. Best is trial 0 with value: 0.973255661327452.\n"
     ]
    },
    {
     "output_type": "stream",
     "name": "stdout",
     "output_type": "stream",
     "text": [
      "Early stopping, best iteration is:\n[105]\tvalid_0's binary_logloss: 0.183264\nTraining until validation scores don't improve for 50 rounds\nEarly stopping, best iteration is:\n[38]\tvalid_0's binary_logloss: 0.185946\nTraining until validation scores don't improve for 50 rounds\n"
     ]
    },
    {
     "output_type": "stream",
     "name": "stderr",
     "output_type": "stream",
     "text": [
      "[I 2025-08-30 11:37:16,152] Trial 1 finished with value: 0.9749883603825683 and parameters: {'n_estimators': 533, 'learning_rate': 0.15247854220035, 'num_leaves': 200, 'max_depth': 10, 'min_child_samples': 75, 'subsample': 0.8819377510060373, 'colsample_bytree': 0.7361290598931092, 'reg_alpha': 1.3179928347441467, 'reg_lambda': 9.209135460630757e-08}. Best is trial 1 with value: 0.9749883603825683.\n"
     ]
    },
    {
     "output_type": "stream",
     "name": "stdout",
     "output_type": "stream",
     "text": [
      "Early stopping, best iteration is:\n[57]\tvalid_0's binary_logloss: 0.171329\nTraining until validation scores don't improve for 50 rounds\nEarly stopping, best iteration is:\n[89]\tvalid_0's binary_logloss: 0.142234\nTraining until validation scores don't improve for 50 rounds\nEarly stopping, best iteration is:\n[135]\tvalid_0's binary_logloss: 0.195293\nTraining until validation scores don't improve for 50 rounds\nEarly stopping, best iteration is:\n[140]\tvalid_0's binary_logloss: 0.172602\nTraining until validation scores don't improve for 50 rounds\n"
     ]
    },
    {
     "output_type": "stream",
     "name": "stderr",
     "output_type": "stream",
     "text": [
      "[I 2025-08-30 11:37:18,005] Trial 2 finished with value: 0.9751821578055481 and parameters: {'n_estimators': 323, 'learning_rate': 0.030077323217647202, 'num_leaves': 65, 'max_depth': 11, 'min_child_samples': 37, 'subsample': 0.5325114860196722, 'colsample_bytree': 0.7932243399240859, 'reg_alpha': 0.0002712454756788598, 'reg_lambda': 2.0162841836588527e-06}. Best is trial 2 with value: 0.9751821578055481.\n"
     ]
    },
    {
     "output_type": "stream",
     "name": "stdout",
     "output_type": "stream",
     "text": [
      "Early stopping, best iteration is:\n[200]\tvalid_0's binary_logloss: 0.145853\nTraining until validation scores don't improve for 50 rounds\nEarly stopping, best iteration is:\n[250]\tvalid_0's binary_logloss: 0.192347\nTraining until validation scores don't improve for 50 rounds\nEarly stopping, best iteration is:\n[257]\tvalid_0's binary_logloss: 0.170204\nTraining until validation scores don't improve for 50 rounds\nEarly stopping, best iteration is:\n[289]\tvalid_0's binary_logloss: 0.147969\n"
     ]
    },
    {
     "output_type": "stream",
     "name": "stderr",
     "output_type": "stream",
     "text": [
      "[I 2025-08-30 11:37:18,619] Trial 3 finished with value: 0.9735573201863046 and parameters: {'n_estimators': 562, 'learning_rate': 0.019788995275113373, 'num_leaves': 220, 'max_depth': 11, 'min_child_samples': 49, 'subsample': 0.6446481821710532, 'colsample_bytree': 0.6493627860539375, 'reg_alpha': 0.5241349855057728, 'reg_lambda': 8.428132916391254e-08}. Best is trial 2 with value: 0.9751821578055481.\n"
     ]
    },
    {
     "output_type": "stream",
     "name": "stdout",
     "output_type": "stream",
     "text": [
      "Training until validation scores don't improve for 50 rounds\nDid not meet early stopping. Best iteration is:\n[309]\tvalid_0's binary_logloss: 0.209944\nTraining until validation scores don't improve for 50 rounds\nDid not meet early stopping. Best iteration is:\n[309]\tvalid_0's binary_logloss: 0.193246\n"
     ]
    },
    {
     "output_type": "stream",
     "name": "stderr",
     "output_type": "stream",
     "text": [
      "[I 2025-08-30 11:37:19,060] Trial 4 finished with value: 0.972310659770598 and parameters: {'n_estimators': 309, 'learning_rate': 0.009133866122870494, 'num_leaves': 64, 'max_depth': 5, 'min_child_samples': 56, 'subsample': 0.8491935090838272, 'colsample_bytree': 0.4753055237469671, 'reg_alpha': 4.326687008154529e-05, 'reg_lambda': 6.470404731786539e-07}. Best is trial 2 with value: 0.9751821578055481.\n"
     ]
    },
    {
     "output_type": "stream",
     "name": "stdout",
     "output_type": "stream",
     "text": [
      "Training until validation scores don't improve for 50 rounds\nDid not meet early stopping. Best iteration is:\n[309]\tvalid_0's binary_logloss: 0.185064\nTraining until validation scores don't improve for 50 rounds\nDid not meet early stopping. Best iteration is:\n[454]\tvalid_0's binary_logloss: 0.486721\nTraining until validation scores don't improve for 50 rounds\nDid not meet early stopping. Best iteration is:\n[454]\tvalid_0's binary_logloss: 0.482049\nTraining until validation scores don't improve for 50 rounds\n"
     ]
    },
    {
     "output_type": "stream",
     "name": "stderr",
     "output_type": "stream",
     "text": [
      "[I 2025-08-30 11:37:19,676] Trial 5 finished with value: 0.9620679435812587 and parameters: {'n_estimators': 454, 'learning_rate': 0.00100237416335504, 'num_leaves': 45, 'max_depth': 3, 'min_child_samples': 91, 'subsample': 0.6213088385962717, 'colsample_bytree': 0.48991580247798033, 'reg_alpha': 4.2777839010816464e-07, 'reg_lambda': 4.745655569538998}. Best is trial 2 with value: 0.9751821578055481.\n"
     ]
    },
    {
     "output_type": "stream",
     "name": "stdout",
     "output_type": "stream",
     "text": [
      "Did not meet early stopping. Best iteration is:\n[454]\tvalid_0's binary_logloss: 0.482461\nTraining until validation scores don't improve for 50 rounds\nDid not meet early stopping. Best iteration is:\n[358]\tvalid_0's binary_logloss: 0.194436\nTraining until validation scores don't improve for 50 rounds\nDid not meet early stopping. Best iteration is:\n[358]\tvalid_0's binary_logloss: 0.179247\nTraining until validation scores don't improve for 50 rounds\n"
     ]
    },
    {
     "output_type": "stream",
     "name": "stderr",
     "output_type": "stream",
     "text": [
      "[I 2025-08-30 11:37:20,034] Trial 6 finished with value: 0.9730826121479348 and parameters: {'n_estimators': 358, 'learning_rate': 0.01092188806669918, 'num_leaves': 183, 'max_depth': 5, 'min_child_samples': 89, 'subsample': 0.726723220944232, 'colsample_bytree': 0.40418575198424705, 'reg_alpha': 5.6332017895264e-06, 'reg_lambda': 0.0004329891174533868}. Best is trial 2 with value: 0.9751821578055481.\n"
     ]
    },
    {
     "output_type": "stream",
     "name": "stdout",
     "output_type": "stream",
     "text": [
      "Did not meet early stopping. Best iteration is:\n[358]\tvalid_0's binary_logloss: 0.171795\nTraining until validation scores don't improve for 50 rounds\nDid not meet early stopping. Best iteration is:\n[566]\tvalid_0's binary_logloss: 0.263014\nTraining until validation scores don't improve for 50 rounds\nDid not meet early stopping. Best iteration is:\n[566]\tvalid_0's binary_logloss: 0.25185\nTraining until validation scores don't improve for 50 rounds\n"
     ]
    },
    {
     "output_type": "stream",
     "name": "stderr",
     "output_type": "stream",
     "text": [
      "[I 2025-08-30 11:37:27,876] Trial 7 finished with value: 0.9685434556508503 and parameters: {'n_estimators': 566, 'learning_rate': 0.002810407440480014, 'num_leaves': 34, 'max_depth': 10, 'min_child_samples': 39, 'subsample': 0.7708189494489219, 'colsample_bytree': 0.9262774765263079, 'reg_alpha': 0.008430559870727753, 'reg_lambda': 2.0343319493258216e-08}. Best is trial 2 with value: 0.9751821578055481.\n"
     ]
    },
    {
     "output_type": "stream",
     "name": "stdout",
     "output_type": "stream",
     "text": [
      "Did not meet early stopping. Best iteration is:\n[566]\tvalid_0's binary_logloss: 0.245469\nTraining until validation scores don't improve for 50 rounds\nEarly stopping, best iteration is:\n[46]\tvalid_0's binary_logloss: 0.189218\nTraining until validation scores don't improve for 50 rounds\nEarly stopping, best iteration is:\n[270]\tvalid_0's binary_logloss: 0.18388\n"
     ]
    },
    {
     "output_type": "stream",
     "name": "stderr",
     "output_type": "stream",
     "text": [
      "[I 2025-08-30 11:37:28,238] Trial 8 finished with value: 0.9744327194796282 and parameters: {'n_estimators': 367, 'learning_rate': 0.13449252204218465, 'num_leaves': 157, 'max_depth': 10, 'min_child_samples': 25, 'subsample': 0.7233232378227934, 'colsample_bytree': 0.5791611042143252, 'reg_alpha': 7.068702614075475, 'reg_lambda': 1.0251359127575371e-06}. Best is trial 2 with value: 0.9751821578055481.\n"
     ]
    },
    {
     "output_type": "stream",
     "name": "stdout",
     "output_type": "stream",
     "text": [
      "Training until validation scores don't improve for 50 rounds\nEarly stopping, best iteration is:\n[218]\tvalid_0's binary_logloss: 0.177307\nTraining until validation scores don't improve for 50 rounds\nDid not meet early stopping. Best iteration is:\n[192]\tvalid_0's binary_logloss: 0.231769\nTraining until validation scores don't improve for 50 rounds\nDid not meet early stopping. Best iteration is:\n[192]\tvalid_0's binary_logloss: 0.219185\nTraining until validation scores don't improve for 50 rounds\n"
     ]
    },
    {
     "output_type": "stream",
     "name": "stderr",
     "output_type": "stream",
     "text": [
      "[I 2025-08-30 11:37:29,637] Trial 9 finished with value: 0.9706315971320923 and parameters: {'n_estimators': 192, 'learning_rate': 0.014363232208525931, 'num_leaves': 62, 'max_depth': 5, 'min_child_samples': 99, 'subsample': 0.5369581295797249, 'colsample_bytree': 0.6424064321168377, 'reg_alpha': 4.189757145367175, 'reg_lambda': 0.6772006049796465}. Best is trial 2 with value: 0.9751821578055481.\n"
     ]
    },
    {
     "output_type": "stream",
     "name": "stdout",
     "output_type": "stream",
     "text": [
      "Did not meet early stopping. Best iteration is:\n[192]\tvalid_0's binary_logloss: 0.213952\nTraining until validation scores don't improve for 50 rounds\nEarly stopping, best iteration is:\n[63]\tvalid_0's binary_logloss: 0.212879\nTraining until validation scores don't improve for 50 rounds\nEarly stopping, best iteration is:\n[78]\tvalid_0's binary_logloss: 0.179169\nTraining until validation scores don't improve for 50 rounds\nEarly stopping, best iteration is:\n[90]\tvalid_0's binary_logloss: 0.159008\n"
     ]
    },
    {
     "output_type": "stream",
     "name": "stderr",
     "output_type": "stream",
     "text": [
      "[I 2025-08-30 11:37:30,391] Trial 10 finished with value: 0.9725129919320233 and parameters: {'n_estimators': 708, 'learning_rate': 0.05009436922337277, 'num_leaves': 113, 'max_depth': 8, 'min_child_samples': 15, 'subsample': 0.9721208950029506, 'colsample_bytree': 0.9471942868690018, 'reg_alpha': 1.9830304046952774e-08, 'reg_lambda': 0.0026472174093412847}. Best is trial 2 with value: 0.9751821578055481.\n"
     ]
    },
    {
     "output_type": "stream",
     "name": "stdout",
     "output_type": "stream",
     "text": [
      "Training until validation scores don't improve for 50 rounds\nEarly stopping, best iteration is:\n[19]\tvalid_0's binary_logloss: 0.1922\nTraining until validation scores don't improve for 50 rounds\nEarly stopping, best iteration is:\n[40]\tvalid_0's binary_logloss: 0.172975\nTraining until validation scores don't improve for 50 rounds\n"
     ]
    },
    {
     "output_type": "stream",
     "name": "stderr",
     "output_type": "stream",
     "text": [
      "[I 2025-08-30 11:37:30,644] Trial 11 finished with value: 0.9741675539851636 and parameters: {'n_estimators': 792, 'learning_rate': 0.17124077350237638, 'num_leaves': 113, 'max_depth': 12, 'min_child_samples': 71, 'subsample': 0.8999791561896163, 'colsample_bytree': 0.7773844075466076, 'reg_alpha': 0.0020463176238125096, 'reg_lambda': 1.105244951061287e-05}. Best is trial 2 with value: 0.9751821578055481.\n"
     ]
    },
    {
     "output_type": "stream",
     "name": "stdout",
     "output_type": "stream",
     "text": [
      "Early stopping, best iteration is:\n[37]\tvalid_0's binary_logloss: 0.153334\nTraining until validation scores don't improve for 50 rounds\nEarly stopping, best iteration is:\n[62]\tvalid_0's binary_logloss: 0.189736\nTraining until validation scores don't improve for 50 rounds\nEarly stopping, best iteration is:\n[78]\tvalid_0's binary_logloss: 0.169252\nTraining until validation scores don't improve for 50 rounds\n"
     ]
    },
    {
     "output_type": "stream",
     "name": "stderr",
     "output_type": "stream",
     "text": [
      "[I 2025-08-30 11:37:30,906] Trial 12 finished with value: 0.974465386926782 and parameters: {'n_estimators': 543, 'learning_rate': 0.07303047660093627, 'num_leaves': 184, 'max_depth': 8, 'min_child_samples': 67, 'subsample': 0.501240002789326, 'colsample_bytree': 0.780062941156461, 'reg_alpha': 0.011292564913439976, 'reg_lambda': 1.0829070141785406e-08}. Best is trial 2 with value: 0.9751821578055481.\n"
     ]
    },
    {
     "output_type": "stream",
     "name": "stdout",
     "output_type": "stream",
     "text": [
      "Early stopping, best iteration is:\n[119]\tvalid_0's binary_logloss: 0.148181\nTraining until validation scores don't improve for 50 rounds\nEarly stopping, best iteration is:\n[53]\tvalid_0's binary_logloss: 0.201131\nTraining until validation scores don't improve for 50 rounds\n"
     ]
    },
    {
     "output_type": "stream",
     "name": "stderr",
     "output_type": "stream",
     "text": [
      "[I 2025-08-30 11:37:31,925] Trial 13 finished with value: 0.9734919852919969 and parameters: {'n_estimators': 454, 'learning_rate': 0.08670792650659033, 'num_leaves': 256, 'max_depth': 9, 'min_child_samples': 34, 'subsample': 0.8463120272682225, 'colsample_bytree': 0.8556198326321041, 'reg_alpha': 0.0002705531543009377, 'reg_lambda': 1.3827148855286494e-06}. Best is trial 2 with value: 0.9751821578055481.\n"
     ]
    },
    {
     "output_type": "stream",
     "name": "stdout",
     "output_type": "stream",
     "text": [
      "Early stopping, best iteration is:\n[55]\tvalid_0's binary_logloss: 0.175186\nTraining until validation scores don't improve for 50 rounds\nEarly stopping, best iteration is:\n[61]\tvalid_0's binary_logloss: 0.156142\nTraining until validation scores don't improve for 50 rounds\nEarly stopping, best iteration is:\n[171]\tvalid_0's binary_logloss: 0.19175\nTraining until validation scores don't improve for 50 rounds\nDid not meet early stopping. Best iteration is:\n[232]\tvalid_0's binary_logloss: 0.171282\nTraining until validation scores don't improve for 50 rounds\n"
     ]
    },
    {
     "output_type": "stream",
     "name": "stderr",
     "output_type": "stream",
     "text": [
      "[I 2025-08-30 11:37:32,864] Trial 14 finished with value: 0.972101852980007 and parameters: {'n_estimators': 279, 'learning_rate': 0.02809338006508185, 'num_leaves': 96, 'max_depth': 12, 'min_child_samples': 75, 'subsample': 0.9902277828554341, 'colsample_bytree': 0.7128984771726216, 'reg_alpha': 0.09178889553773319, 'reg_lambda': 0.009672170830021962}. Best is trial 2 with value: 0.9751821578055481.\n"
     ]
    },
    {
     "output_type": "stream",
     "name": "stdout",
     "output_type": "stream",
     "text": [
      "Early stopping, best iteration is:\n[207]\tvalid_0's binary_logloss: 0.154255\nTraining until validation scores don't improve for 50 rounds\nDid not meet early stopping. Best iteration is:\n[111]\tvalid_0's binary_logloss: 0.420845\nTraining until validation scores don't improve for 50 rounds\nDid not meet early stopping. Best iteration is:\n[111]\tvalid_0's binary_logloss: 0.41573\nTraining until validation scores don't improve for 50 rounds\n"
     ]
    },
    {
     "output_type": "stream",
     "name": "stderr",
     "output_type": "stream",
     "text": [
      "[I 2025-08-30 11:37:33,458] Trial 15 finished with value: 0.9614946445987761 and parameters: {'n_estimators': 111, 'learning_rate': 0.005448516388803143, 'num_leaves': 148, 'max_depth': 7, 'min_child_samples': 57, 'subsample': 0.8035022836725707, 'colsample_bytree': 0.7275395829484883, 'reg_alpha': 0.0002047175829375111, 'reg_lambda': 8.232596895473766e-06}. Best is trial 2 with value: 0.9751821578055481.\n"
     ]
    },
    {
     "output_type": "stream",
     "name": "stdout",
     "output_type": "stream",
     "text": [
      "Did not meet early stopping. Best iteration is:\n[111]\tvalid_0's binary_logloss: 0.416285\nTraining until validation scores don't improve for 50 rounds\nEarly stopping, best iteration is:\n[23]\tvalid_0's binary_logloss: 0.198539\nTraining until validation scores don't improve for 50 rounds\n"
     ]
    },
    {
     "output_type": "stream",
     "name": "stderr",
     "output_type": "stream",
     "text": [
      "[I 2025-08-30 11:37:34,873] Trial 16 finished with value: 0.9753319571803343 and parameters: {'n_estimators': 646, 'learning_rate': 0.1956172781454591, 'num_leaves': 82, 'max_depth': 10, 'min_child_samples': 44, 'subsample': 0.9147449110561263, 'colsample_bytree': 0.8713868751661059, 'reg_alpha': 0.1390346800873488, 'reg_lambda': 2.4537445743426246e-07}. Best is trial 16 with value: 0.9753319571803343.\n"
     ]
    },
    {
     "output_type": "stream",
     "name": "stdout",
     "output_type": "stream",
     "text": [
      "Early stopping, best iteration is:\n[24]\tvalid_0's binary_logloss: 0.169182\nTraining until validation scores don't improve for 50 rounds\nEarly stopping, best iteration is:\n[43]\tvalid_0's binary_logloss: 0.143187\nTraining until validation scores don't improve for 50 rounds\nDid not meet early stopping. Best iteration is:\n[708]\tvalid_0's binary_logloss: 0.204842\nTraining until validation scores don't improve for 50 rounds\nDid not meet early stopping. Best iteration is:\n[708]\tvalid_0's binary_logloss: 0.181816\nTraining until validation scores don't improve for 50 rounds\n"
     ]
    },
    {
     "output_type": "stream",
     "name": "stderr",
     "output_type": "stream",
     "text": [
      "[I 2025-08-30 11:37:38,895] Trial 17 finished with value: 0.9726661757720554 and parameters: {'n_estimators': 708, 'learning_rate': 0.004545975562296422, 'num_leaves': 19, 'max_depth': 7, 'min_child_samples': 41, 'subsample': 0.5653399325526618, 'colsample_bytree': 0.8856038713553991, 'reg_alpha': 0.09099156921238946, 'reg_lambda': 6.359287037405212e-05}. Best is trial 16 with value: 0.9753319571803343.\n"
     ]
    },
    {
     "output_type": "stream",
     "name": "stdout",
     "output_type": "stream",
     "text": [
      "Did not meet early stopping. Best iteration is:\n[708]\tvalid_0's binary_logloss: 0.168019\nTraining until validation scores don't improve for 50 rounds\nEarly stopping, best iteration is:\n[58]\tvalid_0's binary_logloss: 0.201933\nTraining until validation scores don't improve for 50 rounds\nEarly stopping, best iteration is:\n[56]\tvalid_0's binary_logloss: 0.172716\nTraining until validation scores don't improve for 50 rounds\n"
     ]
    },
    {
     "output_type": "stream",
     "name": "stderr",
     "output_type": "stream",
     "text": [
      "[I 2025-08-30 11:37:39,510] Trial 18 finished with value: 0.9755785816912791 and parameters: {'n_estimators': 653, 'learning_rate': 0.06707481938372896, 'num_leaves': 87, 'max_depth': 9, 'min_child_samples': 27, 'subsample': 0.7003442595535947, 'colsample_bytree': 0.9517855288911515, 'reg_alpha': 2.4376790873474398e-05, 'reg_lambda': 2.490379474401587e-07}. Best is trial 18 with value: 0.9755785816912791.\n"
     ]
    },
    {
     "output_type": "stream",
     "name": "stdout",
     "output_type": "stream",
     "text": [
      "Early stopping, best iteration is:\n[83]\tvalid_0's binary_logloss: 0.149236\nTraining until validation scores don't improve for 50 rounds\nEarly stopping, best iteration is:\n[40]\tvalid_0's binary_logloss: 0.205464\nTraining until validation scores don't improve for 50 rounds\nEarly stopping, best iteration is:\n[52]\tvalid_0's binary_logloss: 0.171604\nTraining until validation scores don't improve for 50 rounds\n"
     ]
    },
    {
     "output_type": "stream",
     "name": "stderr",
     "output_type": "stream",
     "text": [
      "[I 2025-08-30 11:37:39,946] Trial 19 finished with value: 0.9740168717064003 and parameters: {'n_estimators': 648, 'learning_rate': 0.07765348993860112, 'num_leaves': 89, 'max_depth': 9, 'min_child_samples': 22, 'subsample': 0.6953806580236943, 'colsample_bytree': 0.9994455151736764, 'reg_alpha': 2.0869210945215078e-05, 'reg_lambda': 0.07033021476461171}. Best is trial 18 with value: 0.9755785816912791.\n"
     ]
    },
    {
     "output_type": "stream",
     "name": "stdout",
     "output_type": "stream",
     "text": [
      "Early stopping, best iteration is:\n[61]\tvalid_0's binary_logloss: 0.154048\nTraining until validation scores don't improve for 50 rounds\nEarly stopping, best iteration is:\n[17]\tvalid_0's binary_logloss: 0.216426\nTraining until validation scores don't improve for 50 rounds\nEarly stopping, best iteration is:\n[22]\tvalid_0's binary_logloss: 0.197565\nTraining until validation scores don't improve for 50 rounds\n"
     ]
    },
    {
     "output_type": "stream",
     "name": "stderr",
     "output_type": "stream",
     "text": [
      "[I 2025-08-30 11:37:40,663] Trial 20 finished with value: 0.971458951733994 and parameters: {'n_estimators': 789, 'learning_rate': 0.19403602607222137, 'num_leaves': 123, 'max_depth': 6, 'min_child_samples': 9, 'subsample': 0.9327311840441035, 'colsample_bytree': 0.9977707480120142, 'reg_alpha': 1.2417352440456379e-08, 'reg_lambda': 1.5344822162151746e-07}. Best is trial 18 with value: 0.9755785816912791.\n"
     ]
    },
    {
     "output_type": "stream",
     "name": "stdout",
     "output_type": "stream",
     "text": [
      "Early stopping, best iteration is:\n[27]\tvalid_0's binary_logloss: 0.175013\nTraining until validation scores don't improve for 50 rounds\nEarly stopping, best iteration is:\n[108]\tvalid_0's binary_logloss: 0.197651\nTraining until validation scores don't improve for 50 rounds\nEarly stopping, best iteration is:\n[120]\tvalid_0's binary_logloss: 0.169341\nTraining until validation scores don't improve for 50 rounds\n"
     ]
    },
    {
     "output_type": "stream",
     "name": "stderr",
     "output_type": "stream",
     "text": [
      "[I 2025-08-30 11:37:41,613] Trial 21 finished with value: 0.9746141562469282 and parameters: {'n_estimators': 643, 'learning_rate': 0.04040103539042966, 'num_leaves': 77, 'max_depth': 9, 'min_child_samples': 29, 'subsample': 0.5881764637881445, 'colsample_bytree': 0.9156496258932517, 'reg_alpha': 0.001877601316330064, 'reg_lambda': 2.337720559884515e-06}. Best is trial 18 with value: 0.9755785816912791.\n"
     ]
    },
    {
     "output_type": "stream",
     "name": "stdout",
     "output_type": "stream",
     "text": [
      "Early stopping, best iteration is:\n[133]\tvalid_0's binary_logloss: 0.149232\nTraining until validation scores don't improve for 50 rounds\n"
     ]
    },
    {
     "output_type": "stream",
     "name": "stderr",
     "output_type": "stream",
     "text": [
      "[I 2025-08-30 11:37:41,986] Trial 22 finished with value: 0.9740142229944689 and parameters: {'n_estimators': 626, 'learning_rate': 0.10589473235382181, 'num_leaves': 51, 'max_depth': 11, 'min_child_samples': 45, 'subsample': 0.7928893437281818, 'colsample_bytree': 0.8093297206329496, 'reg_alpha': 2.9879631363757638e-05, 'reg_lambda': 2.5692694273003883e-07}. Best is trial 18 with value: 0.9755785816912791.\n"
     ]
    },
    {
     "output_type": "stream",
     "name": "stdout",
     "output_type": "stream",
     "text": [
      "Early stopping, best iteration is:\n[44]\tvalid_0's binary_logloss: 0.195421\nTraining until validation scores don't improve for 50 rounds\nEarly stopping, best iteration is:\n[51]\tvalid_0's binary_logloss: 0.171565\nTraining until validation scores don't improve for 50 rounds\nEarly stopping, best iteration is:\n[58]\tvalid_0's binary_logloss: 0.150032\nTraining until validation scores don't improve for 50 rounds\nEarly stopping, best iteration is:\n[59]\tvalid_0's binary_logloss: 0.202565\nTraining until validation scores don't improve for 50 rounds\nEarly stopping, best iteration is:\n[62]\tvalid_0's binary_logloss: 0.17761\nTraining until validation scores don't improve for 50 rounds\n"
     ]
    },
    {
     "output_type": "stream",
     "name": "stderr",
     "output_type": "stream",
     "text": [
      "[I 2025-08-30 11:37:42,870] Trial 23 finished with value: 0.9742886589806932 and parameters: {'n_estimators': 725, 'learning_rate': 0.06411668588813703, 'num_leaves': 84, 'max_depth': 10, 'min_child_samples': 18, 'subsample': 0.6831149131171814, 'colsample_bytree': 0.8559943264595028, 'reg_alpha': 0.001194189502145227, 'reg_lambda': 4.4362836582676014e-06}. Best is trial 18 with value: 0.9755785816912791.\n"
     ]
    },
    {
     "output_type": "stream",
     "name": "stdout",
     "output_type": "stream",
     "text": [
      "Early stopping, best iteration is:\n[81]\tvalid_0's binary_logloss: 0.149778\nTraining until validation scores don't improve for 50 rounds\nEarly stopping, best iteration is:\n[171]\tvalid_0's binary_logloss: 0.201733\nTraining until validation scores don't improve for 50 rounds\nEarly stopping, best iteration is:\n[164]\tvalid_0's binary_logloss: 0.174756\nTraining until validation scores don't improve for 50 rounds\n"
     ]
    },
    {
     "output_type": "stream",
     "name": "stderr",
     "output_type": "stream",
     "text": [
      "[I 2025-08-30 11:37:43,784] Trial 24 finished with value: 0.9739780239314065 and parameters: {'n_estimators': 473, 'learning_rate': 0.024942060416941022, 'num_leaves': 100, 'max_depth': 12, 'min_child_samples': 32, 'subsample': 0.8346249650200857, 'colsample_bytree': 0.8864889338632993, 'reg_alpha': 1.9006753626267892e-06, 'reg_lambda': 2.593566654643416e-05}. Best is trial 18 with value: 0.9755785816912791.\n"
     ]
    },
    {
     "output_type": "stream",
     "name": "stdout",
     "output_type": "stream",
     "text": [
      "Early stopping, best iteration is:\n[224]\tvalid_0's binary_logloss: 0.151186\nTraining until validation scores don't improve for 50 rounds\nEarly stopping, best iteration is:\n[32]\tvalid_0's binary_logloss: 0.206097\nTraining until validation scores don't improve for 50 rounds\nEarly stopping, best iteration is:\n[36]\tvalid_0's binary_logloss: 0.17316\nTraining until validation scores don't improve for 50 rounds\n"
     ]
    },
    {
     "output_type": "stream",
     "name": "stderr",
     "output_type": "stream",
     "text": [
      "[I 2025-08-30 11:37:44,547] Trial 25 finished with value: 0.9748765258787984 and parameters: {'n_estimators': 373, 'learning_rate': 0.1175134719036807, 'num_leaves': 129, 'max_depth': 9, 'min_child_samples': 37, 'subsample': 0.6699989374598909, 'colsample_bytree': 0.9548979015741906, 'reg_alpha': 0.030944032876949554, 'reg_lambda': 0.00025686380687880105}. Best is trial 18 with value: 0.9755785816912791.\n"
     ]
    },
    {
     "output_type": "stream",
     "name": "stdout",
     "output_type": "stream",
     "text": [
      "Early stopping, best iteration is:\n[53]\tvalid_0's binary_logloss: 0.142564\nTraining until validation scores don't improve for 50 rounds\nEarly stopping, best iteration is:\n[80]\tvalid_0's binary_logloss: 0.194783\nTraining until validation scores don't improve for 50 rounds\n"
     ]
    },
    {
     "output_type": "stream",
     "name": "stderr",
     "output_type": "stream",
     "text": [
      "[I 2025-08-30 11:37:44,941] Trial 26 finished with value: 0.9734446027785576 and parameters: {'n_estimators': 259, 'learning_rate': 0.05488493655376215, 'num_leaves': 16, 'max_depth': 11, 'min_child_samples': 62, 'subsample': 0.6016605296380113, 'colsample_bytree': 0.7753321661955789, 'reg_alpha': 0.00020611689073116968, 'reg_lambda': 2.9276622127222545e-08}. Best is trial 18 with value: 0.9755785816912791.\n"
     ]
    },
    {
     "output_type": "stream",
     "name": "stdout",
     "output_type": "stream",
     "text": [
      "Early stopping, best iteration is:\n[126]\tvalid_0's binary_logloss: 0.174164\nTraining until validation scores don't improve for 50 rounds\nEarly stopping, best iteration is:\n[126]\tvalid_0's binary_logloss: 0.144628\nTraining until validation scores don't improve for 50 rounds\nEarly stopping, best iteration is:\n[126]\tvalid_0's binary_logloss: 0.196403\nTraining until validation scores don't improve for 50 rounds\nEarly stopping, best iteration is:\n[143]\tvalid_0's binary_logloss: 0.170184\nTraining until validation scores don't improve for 50 rounds\n"
     ]
    },
    {
     "output_type": "stream",
     "name": "stderr",
     "output_type": "stream",
     "text": [
      "[I 2025-08-30 11:37:46,068] Trial 27 finished with value: 0.9741016304882048 and parameters: {'n_estimators': 495, 'learning_rate': 0.032752904648282455, 'num_leaves': 67, 'max_depth': 8, 'min_child_samples': 49, 'subsample': 0.5091103188975072, 'colsample_bytree': 0.8418694210893318, 'reg_alpha': 8.401662120519052e-06, 'reg_lambda': 3.534558859183631e-07}. Best is trial 18 with value: 0.9755785816912791.\n"
     ]
    },
    {
     "output_type": "stream",
     "name": "stdout",
     "output_type": "stream",
     "text": [
      "Early stopping, best iteration is:\n[173]\tvalid_0's binary_logloss: 0.142322\nTraining until validation scores don't improve for 50 rounds\nEarly stopping, best iteration is:\n[240]\tvalid_0's binary_logloss: 0.194438\nTraining until validation scores don't improve for 50 rounds\nEarly stopping, best iteration is:\n[271]\tvalid_0's binary_logloss: 0.169138\nTraining until validation scores don't improve for 50 rounds\nEarly stopping, best iteration is:\n[327]\tvalid_0's binary_logloss: 0.148767\n"
     ]
    },
    {
     "output_type": "stream",
     "name": "stderr",
     "output_type": "stream",
     "text": [
      "[I 2025-08-30 11:37:47,934] Trial 28 finished with value: 0.9745630949669176 and parameters: {'n_estimators': 416, 'learning_rate': 0.017435527177463935, 'num_leaves': 38, 'max_depth': 10, 'min_child_samples': 43, 'subsample': 0.9539018717058502, 'colsample_bytree': 0.6621139180867527, 'reg_alpha': 6.221477222959091e-08, 'reg_lambda': 2.2897755587969866e-06}. Best is trial 18 with value: 0.9755785816912791.\n"
     ]
    },
    {
     "output_type": "stream",
     "name": "stdout",
     "output_type": "stream",
     "text": [
      "Training until validation scores don't improve for 50 rounds\nEarly stopping, best iteration is:\n[83]\tvalid_0's binary_logloss: 0.197274\nTraining until validation scores don't improve for 50 rounds\nEarly stopping, best iteration is:\n[88]\tvalid_0's binary_logloss: 0.187289\nTraining until validation scores don't improve for 50 rounds\n"
     ]
    },
    {
     "output_type": "stream",
     "name": "stderr",
     "output_type": "stream",
     "text": [
      "[I 2025-08-30 11:37:49,173] Trial 29 finished with value: 0.9728532042645438 and parameters: {'n_estimators': 189, 'learning_rate': 0.04246708739913848, 'num_leaves': 143, 'max_depth': 11, 'min_child_samples': 8, 'subsample': 0.7539724668819761, 'colsample_bytree': 0.8209882188819934, 'reg_alpha': 5.445750985281916e-07, 'reg_lambda': 8.161806149013066e-05}. Best is trial 18 with value: 0.9755785816912791.\n"
     ]
    },
    {
     "output_type": "stream",
     "name": "stdout",
     "output_type": "stream",
     "text": [
      "Early stopping, best iteration is:\n[92]\tvalid_0's binary_logloss: 0.171484\nTraining until validation scores don't improve for 50 rounds\nEarly stopping, best iteration is:\n[38]\tvalid_0's binary_logloss: 0.196722\nTraining until validation scores don't improve for 50 rounds\nEarly stopping, best iteration is:\n[40]\tvalid_0's binary_logloss: 0.173844\nTraining until validation scores don't improve for 50 rounds\n"
     ]
    },
    {
     "output_type": "stream",
     "name": "stderr",
     "output_type": "stream",
     "text": [
      "[I 2025-08-30 11:37:49,778] Trial 30 finished with value: 0.9751530219743029 and parameters: {'n_estimators': 624, 'learning_rate': 0.10039779000654486, 'num_leaves': 106, 'max_depth': 11, 'min_child_samples': 25, 'subsample': 0.5564572414763803, 'colsample_bytree': 0.8931230487280706, 'reg_alpha': 9.009879203621614e-05, 'reg_lambda': 3.3173784263211684e-08}. Best is trial 18 with value: 0.9755785816912791.\n"
     ]
    },
    {
     "output_type": "stream",
     "name": "stdout",
     "output_type": "stream",
     "text": [
      "Early stopping, best iteration is:\n[54]\tvalid_0's binary_logloss: 0.150822\nTraining until validation scores don't improve for 50 rounds\nEarly stopping, best iteration is:\n[33]\tvalid_0's binary_logloss: 0.201053\nTraining until validation scores don't improve for 50 rounds\nEarly stopping, best iteration is:\n[41]\tvalid_0's binary_logloss: 0.172922\nTraining until validation scores don't improve for 50 rounds\n"
     ]
    },
    {
     "output_type": "stream",
     "name": "stderr",
     "output_type": "stream",
     "text": [
      "[I 2025-08-30 11:37:50,217] Trial 31 finished with value: 0.9745775157318773 and parameters: {'n_estimators': 661, 'learning_rate': 0.10178298493106688, 'num_leaves': 108, 'max_depth': 11, 'min_child_samples': 26, 'subsample': 0.5540756945566675, 'colsample_bytree': 0.8948510198539084, 'reg_alpha': 6.82084215772716e-05, 'reg_lambda': 5.1781352504509505e-08}. Best is trial 18 with value: 0.9755785816912791.\n"
     ]
    },
    {
     "output_type": "stream",
     "name": "stdout",
     "output_type": "stream",
     "text": [
      "Early stopping, best iteration is:\n[40]\tvalid_0's binary_logloss: 0.150805\nTraining until validation scores don't improve for 50 rounds\nEarly stopping, best iteration is:\n[23]\tvalid_0's binary_logloss: 0.199592\nTraining until validation scores don't improve for 50 rounds\nEarly stopping, best iteration is:\n[29]\tvalid_0's binary_logloss: 0.163897\nTraining until validation scores don't improve for 50 rounds\n"
     ]
    },
    {
     "output_type": "stream",
     "name": "stderr",
     "output_type": "stream",
     "text": [
      "[I 2025-08-30 11:37:51,451] Trial 32 finished with value: 0.9766151109604287 and parameters: {'n_estimators': 583, 'learning_rate': 0.13128119456556495, 'num_leaves': 77, 'max_depth': 12, 'min_child_samples': 20, 'subsample': 0.6522935626675963, 'colsample_bytree': 0.9486101030134573, 'reg_alpha': 0.0006047096590982023, 'reg_lambda': 2.5323201438523244e-07}. Best is trial 32 with value: 0.9766151109604287.\n"
     ]
    },
    {
     "output_type": "stream",
     "name": "stdout",
     "output_type": "stream",
     "text": [
      "Early stopping, best iteration is:\n[44]\tvalid_0's binary_logloss: 0.147501\nTraining until validation scores don't improve for 50 rounds\nEarly stopping, best iteration is:\n[31]\tvalid_0's binary_logloss: 0.204553\nTraining until validation scores don't improve for 50 rounds\nEarly stopping, best iteration is:\n[29]\tvalid_0's binary_logloss: 0.171409\n"
     ]
    },
    {
     "output_type": "stream",
     "name": "stderr",
     "output_type": "stream",
     "text": [
      "[I 2025-08-30 11:37:51,688] Trial 33 finished with value: 0.9747357026944464 and parameters: {'n_estimators': 575, 'learning_rate': 0.155809588201787, 'num_leaves': 78, 'max_depth': 12, 'min_child_samples': 15, 'subsample': 0.6416305073077192, 'colsample_bytree': 0.9593622365865843, 'reg_alpha': 1.0888146016488183, 'reg_lambda': 2.876861918172934e-07}. Best is trial 32 with value: 0.9766151109604287.\n"
     ]
    },
    {
     "output_type": "stream",
     "name": "stdout",
     "output_type": "stream",
     "text": [
      "Training until validation scores don't improve for 50 rounds\nEarly stopping, best iteration is:\n[40]\tvalid_0's binary_logloss: 0.158671\nTraining until validation scores don't improve for 50 rounds\nEarly stopping, best iteration is:\n[100]\tvalid_0's binary_logloss: 0.191418\nTraining until validation scores don't improve for 50 rounds\nEarly stopping, best iteration is:\n[88]\tvalid_0's binary_logloss: 0.172423\nTraining until validation scores don't improve for 50 rounds\n"
     ]
    },
    {
     "output_type": "stream",
     "name": "stderr",
     "output_type": "stream",
     "text": [
      "[I 2025-08-30 11:37:52,136] Trial 34 finished with value: 0.973976699575441 and parameters: {'n_estimators': 512, 'learning_rate': 0.054784832874250525, 'num_leaves': 60, 'max_depth': 12, 'min_child_samples': 50, 'subsample': 0.7104693994321559, 'colsample_bytree': 0.9723256183976563, 'reg_alpha': 0.0008116344634265099, 'reg_lambda': 1.3769730133577405e-07}. Best is trial 32 with value: 0.9766151109604287.\n"
     ]
    },
    {
     "output_type": "stream",
     "name": "stdout",
     "output_type": "stream",
     "text": [
      "Early stopping, best iteration is:\n[97]\tvalid_0's binary_logloss: 0.154485\nTraining until validation scores don't improve for 50 rounds\nEarly stopping, best iteration is:\n[24]\tvalid_0's binary_logloss: 0.205167\nTraining until validation scores don't improve for 50 rounds\nEarly stopping, best iteration is:\n[29]\tvalid_0's binary_logloss: 0.172027\nTraining until validation scores don't improve for 50 rounds\n"
     ]
    },
    {
     "output_type": "stream",
     "name": "stderr",
     "output_type": "stream",
     "text": [
      "[I 2025-08-30 11:37:52,631] Trial 35 finished with value: 0.9741600493013581 and parameters: {'n_estimators': 590, 'learning_rate': 0.1393381426067291, 'num_leaves': 77, 'max_depth': 10, 'min_child_samples': 32, 'subsample': 0.6604030473872624, 'colsample_bytree': 0.9197386783391648, 'reg_alpha': 0.004102234871288036, 'reg_lambda': 9.287902946829037e-07}. Best is trial 32 with value: 0.9766151109604287.\n"
     ]
    },
    {
     "output_type": "stream",
     "name": "stdout",
     "output_type": "stream",
     "text": [
      "Early stopping, best iteration is:\n[45]\tvalid_0's binary_logloss: 0.146502\nTraining until validation scores don't improve for 50 rounds\nEarly stopping, best iteration is:\n[213]\tvalid_0's binary_logloss: 0.198591\nTraining until validation scores don't improve for 50 rounds\n"
     ]
    },
    {
     "output_type": "stream",
     "name": "stderr",
     "output_type": "stream",
     "text": [
      "[I 2025-08-30 11:37:53,453] Trial 36 finished with value: 0.9749911562451624 and parameters: {'n_estimators': 756, 'learning_rate': 0.022082174807759463, 'num_leaves': 49, 'max_depth': 3, 'min_child_samples': 17, 'subsample': 0.6154373411036955, 'colsample_bytree': 0.7924389784055812, 'reg_alpha': 0.3882497406318032, 'reg_lambda': 1.4932022157081854e-05}. Best is trial 32 with value: 0.9766151109604287.\n"
     ]
    },
    {
     "output_type": "stream",
     "name": "stdout",
     "output_type": "stream",
     "text": [
      "Early stopping, best iteration is:\n[201]\tvalid_0's binary_logloss: 0.169342\nTraining until validation scores don't improve for 50 rounds\nEarly stopping, best iteration is:\n[276]\tvalid_0's binary_logloss: 0.14941\nTraining until validation scores don't improve for 50 rounds\n"
     ]
    },
    {
     "output_type": "stream",
     "name": "stderr",
     "output_type": "stream",
     "text": [
      "[I 2025-08-30 11:37:53,612] Trial 37 finished with value: 0.972101852980007 and parameters: {'n_estimators': 675, 'learning_rate': 0.19466003221446262, 'num_leaves': 67, 'max_depth': 9, 'min_child_samples': 55, 'subsample': 0.8893936109704446, 'colsample_bytree': 0.7490241188044564, 'reg_alpha': 6.229152803659753e-06, 'reg_lambda': 7.669464116164632e-08}. Best is trial 32 with value: 0.9766151109604287.\n"
     ]
    },
    {
     "output_type": "stream",
     "name": "stdout",
     "output_type": "stream",
     "text": [
      "Early stopping, best iteration is:\n[20]\tvalid_0's binary_logloss: 0.200103\nTraining until validation scores don't improve for 50 rounds\nEarly stopping, best iteration is:\n[25]\tvalid_0's binary_logloss: 0.17207\nTraining until validation scores don't improve for 50 rounds\nEarly stopping, best iteration is:\n[26]\tvalid_0's binary_logloss: 0.154607\nTraining until validation scores don't improve for 50 rounds\nEarly stopping, best iteration is:\n[123]\tvalid_0's binary_logloss: 0.200491\nTraining until validation scores don't improve for 50 rounds\nEarly stopping, best iteration is:\n[121]\tvalid_0's binary_logloss: 0.17244\nTraining until validation scores don't improve for 50 rounds\n"
     ]
    },
    {
     "output_type": "stream",
     "name": "stderr",
     "output_type": "stream",
     "text": [
      "[I 2025-08-30 11:37:54,600] Trial 38 finished with value: 0.9739413834163556 and parameters: {'n_estimators': 600, 'learning_rate': 0.035251208624264244, 'num_leaves': 35, 'max_depth': 11, 'min_child_samples': 36, 'subsample': 0.7462640576946585, 'colsample_bytree': 0.8587405477042017, 'reg_alpha': 1.5255398043224455e-07, 'reg_lambda': 6.374683745217957e-07}. Best is trial 32 with value: 0.9766151109604287.\n"
     ]
    },
    {
     "output_type": "stream",
     "name": "stdout",
     "output_type": "stream",
     "text": [
      "Early stopping, best iteration is:\n[155]\tvalid_0's binary_logloss: 0.148111\nTraining until validation scores don't improve for 50 rounds\nDid not meet early stopping. Best iteration is:\n[323]\tvalid_0's binary_logloss: 0.461914\nTraining until validation scores don't improve for 50 rounds\nDid not meet early stopping. Best iteration is:\n[323]\tvalid_0's binary_logloss: 0.458707\nTraining until validation scores don't improve for 50 rounds\n"
     ]
    },
    {
     "output_type": "stream",
     "name": "stderr",
     "output_type": "stream",
     "text": [
      "[I 2025-08-30 11:37:55,958] Trial 39 finished with value: 0.9609398865998132 and parameters: {'n_estimators': 323, 'learning_rate': 0.0014364124693126766, 'num_leaves': 94, 'max_depth': 10, 'min_child_samples': 45, 'subsample': 0.6331515825417098, 'colsample_bytree': 0.9262762620788215, 'reg_alpha': 0.0005645648892196708, 'reg_lambda': 4.346220906086369e-06}. Best is trial 32 with value: 0.9766151109604287.\n"
     ]
    },
    {
     "output_type": "stream",
     "name": "stdout",
     "output_type": "stream",
     "text": [
      "Did not meet early stopping. Best iteration is:\n[323]\tvalid_0's binary_logloss: 0.45665\nBest AUC: 0.9766151109604287\nBest params: {'n_estimators': 583, 'learning_rate': 0.13128119456556495, 'num_leaves': 77, 'max_depth': 12, 'min_child_samples': 20, 'subsample': 0.6522935626675963, 'colsample_bytree': 0.9486101030134573, 'reg_alpha': 0.0006047096590982023, 'reg_lambda': 2.5323201438523244e-07}\n"
     ]
    }
   ],
   "source": [
    "import optuna\n",
    "from sklearn.model_selection import StratifiedKFold\n",
    "from sklearn.metrics import roc_auc_score\n",
    "import lightgbm as lgb\n",
    "\n",
    "def objective(trial):\n",
    "    params = {\n",
    "        \"n_estimators\": trial.suggest_int(\"n_estimators\", 100, 800),\n",
    "        \"learning_rate\": trial.suggest_float(\"learning_rate\", 1e-3, 0.2, log=True),\n",
    "        \"num_leaves\": trial.suggest_int(\"num_leaves\", 16, 256),\n",
    "        \"max_depth\": trial.suggest_int(\"max_depth\", 3, 12),\n",
    "        \"min_child_samples\": trial.suggest_int(\"min_child_samples\", 5, 100),\n",
    "        \"subsample\": trial.suggest_float(\"subsample\", 0.5, 1.0),\n",
    "        \"colsample_bytree\": trial.suggest_float(\"colsample_bytree\", 0.4, 1.0),\n",
    "        \"reg_alpha\": trial.suggest_float(\"reg_alpha\", 1e-8, 10.0, log=True),\n",
    "        \"reg_lambda\": trial.suggest_float(\"reg_lambda\", 1e-8, 10.0, log=True),\n",
    "        \"random_state\": 42,\n",
    "        \"n_jobs\": -1,\n",
    "        \"objective\": \"binary\",\n",
    "        \"verbosity\": -1,\n",
    "    }\n",
    "\n",
    "    skf = StratifiedKFold(n_splits=3, shuffle=True, random_state=42)\n",
    "    aucs = []\n",
    "    for train_idx, val_idx in skf.split(X_train, y_train):\n",
    "        X_tr, X_val = X_train[train_idx], X_train[val_idx]\n",
    "        y_tr, y_val = y_train[train_idx], y_train[val_idx]\n",
    "\n",
    "        model = lgb.LGBMClassifier(**params)\n",
    "        model.fit(\n",
    "            X_tr, y_tr,\n",
    "            eval_set=[(X_val, y_val)],\n",
    "            callbacks=[lgb.early_stopping(50), lgb.log_evaluation(-1)]\n",
    "        )\n",
    "        prob = model.predict_proba(X_val)[:, 1]\n",
    "        aucs.append(roc_auc_score(y_val, prob))\n",
    "\n",
    "    return sum(aucs) / len(aucs)\n",
    "\n",
    "# Create and run the study\n",
    "study = optuna.create_study(direction=\"maximize\")\n",
    "study.optimize(objective, n_trials=40)\n",
    "\n",
    "print(\"Best AUC:\", study.best_value)\n",
    "print(\"Best params:\", study.best_params)\n"
   ]
  },
  {
   "cell_type": "code",
   "execution_count": 0,
   "metadata": {
    "application/vnd.databricks.v1+cell": {
     "cellMetadata": {
      "byteLimit": 2048000,
      "rowLimit": 10000
     },
     "inputWidgets": {},
     "nuid": "f78bc289-66be-4c36-81a9-ff3566235467",
     "showTitle": false,
     "tableResultSettingsMap": {},
     "title": ""
    }
   },
   "outputs": [
    {
     "output_type": "execute_result",
     "data": {
      "text/html": [
       "<style>#sk-container-id-1 {\n",
       "  /* Definition of color scheme common for light and dark mode */\n",
       "  --sklearn-color-text: black;\n",
       "  --sklearn-color-line: gray;\n",
       "  /* Definition of color scheme for unfitted estimators */\n",
       "  --sklearn-color-unfitted-level-0: #fff5e6;\n",
       "  --sklearn-color-unfitted-level-1: #f6e4d2;\n",
       "  --sklearn-color-unfitted-level-2: #ffe0b3;\n",
       "  --sklearn-color-unfitted-level-3: chocolate;\n",
       "  /* Definition of color scheme for fitted estimators */\n",
       "  --sklearn-color-fitted-level-0: #f0f8ff;\n",
       "  --sklearn-color-fitted-level-1: #d4ebff;\n",
       "  --sklearn-color-fitted-level-2: #b3dbfd;\n",
       "  --sklearn-color-fitted-level-3: cornflowerblue;\n",
       "\n",
       "  /* Specific color for light theme */\n",
       "  --sklearn-color-text-on-default-background: var(--sg-text-color, var(--theme-code-foreground, var(--jp-content-font-color1, black)));\n",
       "  --sklearn-color-background: var(--sg-background-color, var(--theme-background, var(--jp-layout-color0, white)));\n",
       "  --sklearn-color-border-box: var(--sg-text-color, var(--theme-code-foreground, var(--jp-content-font-color1, black)));\n",
       "  --sklearn-color-icon: #696969;\n",
       "\n",
       "  @media (prefers-color-scheme: dark) {\n",
       "    /* Redefinition of color scheme for dark theme */\n",
       "    --sklearn-color-text-on-default-background: var(--sg-text-color, var(--theme-code-foreground, var(--jp-content-font-color1, white)));\n",
       "    --sklearn-color-background: var(--sg-background-color, var(--theme-background, var(--jp-layout-color0, #111)));\n",
       "    --sklearn-color-border-box: var(--sg-text-color, var(--theme-code-foreground, var(--jp-content-font-color1, white)));\n",
       "    --sklearn-color-icon: #878787;\n",
       "  }\n",
       "}\n",
       "\n",
       "#sk-container-id-1 {\n",
       "  color: var(--sklearn-color-text);\n",
       "}\n",
       "\n",
       "#sk-container-id-1 pre {\n",
       "  padding: 0;\n",
       "}\n",
       "\n",
       "#sk-container-id-1 input.sk-hidden--visually {\n",
       "  border: 0;\n",
       "  clip: rect(1px 1px 1px 1px);\n",
       "  clip: rect(1px, 1px, 1px, 1px);\n",
       "  height: 1px;\n",
       "  margin: -1px;\n",
       "  overflow: hidden;\n",
       "  padding: 0;\n",
       "  position: absolute;\n",
       "  width: 1px;\n",
       "}\n",
       "\n",
       "#sk-container-id-1 div.sk-dashed-wrapped {\n",
       "  border: 1px dashed var(--sklearn-color-line);\n",
       "  margin: 0 0.4em 0.5em 0.4em;\n",
       "  box-sizing: border-box;\n",
       "  padding-bottom: 0.4em;\n",
       "  background-color: var(--sklearn-color-background);\n",
       "}\n",
       "\n",
       "#sk-container-id-1 div.sk-container {\n",
       "  /* jupyter's `normalize.less` sets `[hidden] { display: none; }`\n",
       "     but bootstrap.min.css set `[hidden] { display: none !important; }`\n",
       "     so we also need the `!important` here to be able to override the\n",
       "     default hidden behavior on the sphinx rendered scikit-learn.org.\n",
       "     See: https://github.com/scikit-learn/scikit-learn/issues/21755 */\n",
       "  display: inline-block !important;\n",
       "  position: relative;\n",
       "}\n",
       "\n",
       "#sk-container-id-1 div.sk-text-repr-fallback {\n",
       "  display: none;\n",
       "}\n",
       "\n",
       "div.sk-parallel-item,\n",
       "div.sk-serial,\n",
       "div.sk-item {\n",
       "  /* draw centered vertical line to link estimators */\n",
       "  background-image: linear-gradient(var(--sklearn-color-text-on-default-background), var(--sklearn-color-text-on-default-background));\n",
       "  background-size: 2px 100%;\n",
       "  background-repeat: no-repeat;\n",
       "  background-position: center center;\n",
       "}\n",
       "\n",
       "/* Parallel-specific style estimator block */\n",
       "\n",
       "#sk-container-id-1 div.sk-parallel-item::after {\n",
       "  content: \"\";\n",
       "  width: 100%;\n",
       "  border-bottom: 2px solid var(--sklearn-color-text-on-default-background);\n",
       "  flex-grow: 1;\n",
       "}\n",
       "\n",
       "#sk-container-id-1 div.sk-parallel {\n",
       "  display: flex;\n",
       "  align-items: stretch;\n",
       "  justify-content: center;\n",
       "  background-color: var(--sklearn-color-background);\n",
       "  position: relative;\n",
       "}\n",
       "\n",
       "#sk-container-id-1 div.sk-parallel-item {\n",
       "  display: flex;\n",
       "  flex-direction: column;\n",
       "}\n",
       "\n",
       "#sk-container-id-1 div.sk-parallel-item:first-child::after {\n",
       "  align-self: flex-end;\n",
       "  width: 50%;\n",
       "}\n",
       "\n",
       "#sk-container-id-1 div.sk-parallel-item:last-child::after {\n",
       "  align-self: flex-start;\n",
       "  width: 50%;\n",
       "}\n",
       "\n",
       "#sk-container-id-1 div.sk-parallel-item:only-child::after {\n",
       "  width: 0;\n",
       "}\n",
       "\n",
       "/* Serial-specific style estimator block */\n",
       "\n",
       "#sk-container-id-1 div.sk-serial {\n",
       "  display: flex;\n",
       "  flex-direction: column;\n",
       "  align-items: center;\n",
       "  background-color: var(--sklearn-color-background);\n",
       "  padding-right: 1em;\n",
       "  padding-left: 1em;\n",
       "}\n",
       "\n",
       "\n",
       "/* Toggleable style: style used for estimator/Pipeline/ColumnTransformer box that is\n",
       "clickable and can be expanded/collapsed.\n",
       "- Pipeline and ColumnTransformer use this feature and define the default style\n",
       "- Estimators will overwrite some part of the style using the `sk-estimator` class\n",
       "*/\n",
       "\n",
       "/* Pipeline and ColumnTransformer style (default) */\n",
       "\n",
       "#sk-container-id-1 div.sk-toggleable {\n",
       "  /* Default theme specific background. It is overwritten whether we have a\n",
       "  specific estimator or a Pipeline/ColumnTransformer */\n",
       "  background-color: var(--sklearn-color-background);\n",
       "}\n",
       "\n",
       "/* Toggleable label */\n",
       "#sk-container-id-1 label.sk-toggleable__label {\n",
       "  cursor: pointer;\n",
       "  display: block;\n",
       "  width: 100%;\n",
       "  margin-bottom: 0;\n",
       "  padding: 0.5em;\n",
       "  box-sizing: border-box;\n",
       "  text-align: center;\n",
       "}\n",
       "\n",
       "#sk-container-id-1 label.sk-toggleable__label-arrow:before {\n",
       "  /* Arrow on the left of the label */\n",
       "  content: \"▸\";\n",
       "  float: left;\n",
       "  margin-right: 0.25em;\n",
       "  color: var(--sklearn-color-icon);\n",
       "}\n",
       "\n",
       "#sk-container-id-1 label.sk-toggleable__label-arrow:hover:before {\n",
       "  color: var(--sklearn-color-text);\n",
       "}\n",
       "\n",
       "/* Toggleable content - dropdown */\n",
       "\n",
       "#sk-container-id-1 div.sk-toggleable__content {\n",
       "  max-height: 0;\n",
       "  max-width: 0;\n",
       "  overflow: hidden;\n",
       "  text-align: left;\n",
       "  /* unfitted */\n",
       "  background-color: var(--sklearn-color-unfitted-level-0);\n",
       "}\n",
       "\n",
       "#sk-container-id-1 div.sk-toggleable__content.fitted {\n",
       "  /* fitted */\n",
       "  background-color: var(--sklearn-color-fitted-level-0);\n",
       "}\n",
       "\n",
       "#sk-container-id-1 div.sk-toggleable__content pre {\n",
       "  margin: 0.2em;\n",
       "  border-radius: 0.25em;\n",
       "  color: var(--sklearn-color-text);\n",
       "  /* unfitted */\n",
       "  background-color: var(--sklearn-color-unfitted-level-0);\n",
       "}\n",
       "\n",
       "#sk-container-id-1 div.sk-toggleable__content.fitted pre {\n",
       "  /* unfitted */\n",
       "  background-color: var(--sklearn-color-fitted-level-0);\n",
       "}\n",
       "\n",
       "#sk-container-id-1 input.sk-toggleable__control:checked~div.sk-toggleable__content {\n",
       "  /* Expand drop-down */\n",
       "  max-height: 200px;\n",
       "  max-width: 100%;\n",
       "  overflow: auto;\n",
       "}\n",
       "\n",
       "#sk-container-id-1 input.sk-toggleable__control:checked~label.sk-toggleable__label-arrow:before {\n",
       "  content: \"▾\";\n",
       "}\n",
       "\n",
       "/* Pipeline/ColumnTransformer-specific style */\n",
       "\n",
       "#sk-container-id-1 div.sk-label input.sk-toggleable__control:checked~label.sk-toggleable__label {\n",
       "  color: var(--sklearn-color-text);\n",
       "  background-color: var(--sklearn-color-unfitted-level-2);\n",
       "}\n",
       "\n",
       "#sk-container-id-1 div.sk-label.fitted input.sk-toggleable__control:checked~label.sk-toggleable__label {\n",
       "  background-color: var(--sklearn-color-fitted-level-2);\n",
       "}\n",
       "\n",
       "/* Estimator-specific style */\n",
       "\n",
       "/* Colorize estimator box */\n",
       "#sk-container-id-1 div.sk-estimator input.sk-toggleable__control:checked~label.sk-toggleable__label {\n",
       "  /* unfitted */\n",
       "  background-color: var(--sklearn-color-unfitted-level-2);\n",
       "}\n",
       "\n",
       "#sk-container-id-1 div.sk-estimator.fitted input.sk-toggleable__control:checked~label.sk-toggleable__label {\n",
       "  /* fitted */\n",
       "  background-color: var(--sklearn-color-fitted-level-2);\n",
       "}\n",
       "\n",
       "#sk-container-id-1 div.sk-label label.sk-toggleable__label,\n",
       "#sk-container-id-1 div.sk-label label {\n",
       "  /* The background is the default theme color */\n",
       "  color: var(--sklearn-color-text-on-default-background);\n",
       "}\n",
       "\n",
       "/* On hover, darken the color of the background */\n",
       "#sk-container-id-1 div.sk-label:hover label.sk-toggleable__label {\n",
       "  color: var(--sklearn-color-text);\n",
       "  background-color: var(--sklearn-color-unfitted-level-2);\n",
       "}\n",
       "\n",
       "/* Label box, darken color on hover, fitted */\n",
       "#sk-container-id-1 div.sk-label.fitted:hover label.sk-toggleable__label.fitted {\n",
       "  color: var(--sklearn-color-text);\n",
       "  background-color: var(--sklearn-color-fitted-level-2);\n",
       "}\n",
       "\n",
       "/* Estimator label */\n",
       "\n",
       "#sk-container-id-1 div.sk-label label {\n",
       "  font-family: monospace;\n",
       "  font-weight: bold;\n",
       "  display: inline-block;\n",
       "  line-height: 1.2em;\n",
       "}\n",
       "\n",
       "#sk-container-id-1 div.sk-label-container {\n",
       "  text-align: center;\n",
       "}\n",
       "\n",
       "/* Estimator-specific */\n",
       "#sk-container-id-1 div.sk-estimator {\n",
       "  font-family: monospace;\n",
       "  border: 1px dotted var(--sklearn-color-border-box);\n",
       "  border-radius: 0.25em;\n",
       "  box-sizing: border-box;\n",
       "  margin-bottom: 0.5em;\n",
       "  /* unfitted */\n",
       "  background-color: var(--sklearn-color-unfitted-level-0);\n",
       "}\n",
       "\n",
       "#sk-container-id-1 div.sk-estimator.fitted {\n",
       "  /* fitted */\n",
       "  background-color: var(--sklearn-color-fitted-level-0);\n",
       "}\n",
       "\n",
       "/* on hover */\n",
       "#sk-container-id-1 div.sk-estimator:hover {\n",
       "  /* unfitted */\n",
       "  background-color: var(--sklearn-color-unfitted-level-2);\n",
       "}\n",
       "\n",
       "#sk-container-id-1 div.sk-estimator.fitted:hover {\n",
       "  /* fitted */\n",
       "  background-color: var(--sklearn-color-fitted-level-2);\n",
       "}\n",
       "\n",
       "/* Specification for estimator info (e.g. \"i\" and \"?\") */\n",
       "\n",
       "/* Common style for \"i\" and \"?\" */\n",
       "\n",
       ".sk-estimator-doc-link,\n",
       "a:link.sk-estimator-doc-link,\n",
       "a:visited.sk-estimator-doc-link {\n",
       "  float: right;\n",
       "  font-size: smaller;\n",
       "  line-height: 1em;\n",
       "  font-family: monospace;\n",
       "  background-color: var(--sklearn-color-background);\n",
       "  border-radius: 1em;\n",
       "  height: 1em;\n",
       "  width: 1em;\n",
       "  text-decoration: none !important;\n",
       "  margin-left: 1ex;\n",
       "  /* unfitted */\n",
       "  border: var(--sklearn-color-unfitted-level-1) 1pt solid;\n",
       "  color: var(--sklearn-color-unfitted-level-1);\n",
       "}\n",
       "\n",
       ".sk-estimator-doc-link.fitted,\n",
       "a:link.sk-estimator-doc-link.fitted,\n",
       "a:visited.sk-estimator-doc-link.fitted {\n",
       "  /* fitted */\n",
       "  border: var(--sklearn-color-fitted-level-1) 1pt solid;\n",
       "  color: var(--sklearn-color-fitted-level-1);\n",
       "}\n",
       "\n",
       "/* On hover */\n",
       "div.sk-estimator:hover .sk-estimator-doc-link:hover,\n",
       ".sk-estimator-doc-link:hover,\n",
       "div.sk-label-container:hover .sk-estimator-doc-link:hover,\n",
       ".sk-estimator-doc-link:hover {\n",
       "  /* unfitted */\n",
       "  background-color: var(--sklearn-color-unfitted-level-3);\n",
       "  color: var(--sklearn-color-background);\n",
       "  text-decoration: none;\n",
       "}\n",
       "\n",
       "div.sk-estimator.fitted:hover .sk-estimator-doc-link.fitted:hover,\n",
       ".sk-estimator-doc-link.fitted:hover,\n",
       "div.sk-label-container:hover .sk-estimator-doc-link.fitted:hover,\n",
       ".sk-estimator-doc-link.fitted:hover {\n",
       "  /* fitted */\n",
       "  background-color: var(--sklearn-color-fitted-level-3);\n",
       "  color: var(--sklearn-color-background);\n",
       "  text-decoration: none;\n",
       "}\n",
       "\n",
       "/* Span, style for the box shown on hovering the info icon */\n",
       ".sk-estimator-doc-link span {\n",
       "  display: none;\n",
       "  z-index: 9999;\n",
       "  position: relative;\n",
       "  font-weight: normal;\n",
       "  right: .2ex;\n",
       "  padding: .5ex;\n",
       "  margin: .5ex;\n",
       "  width: min-content;\n",
       "  min-width: 20ex;\n",
       "  max-width: 50ex;\n",
       "  color: var(--sklearn-color-text);\n",
       "  box-shadow: 2pt 2pt 4pt #999;\n",
       "  /* unfitted */\n",
       "  background: var(--sklearn-color-unfitted-level-0);\n",
       "  border: .5pt solid var(--sklearn-color-unfitted-level-3);\n",
       "}\n",
       "\n",
       ".sk-estimator-doc-link.fitted span {\n",
       "  /* fitted */\n",
       "  background: var(--sklearn-color-fitted-level-0);\n",
       "  border: var(--sklearn-color-fitted-level-3);\n",
       "}\n",
       "\n",
       ".sk-estimator-doc-link:hover span {\n",
       "  display: block;\n",
       "}\n",
       "\n",
       "/* \"?\"-specific style due to the `<a>` HTML tag */\n",
       "\n",
       "#sk-container-id-1 a.estimator_doc_link {\n",
       "  float: right;\n",
       "  font-size: 1rem;\n",
       "  line-height: 1em;\n",
       "  font-family: monospace;\n",
       "  background-color: var(--sklearn-color-background);\n",
       "  border-radius: 1rem;\n",
       "  height: 1rem;\n",
       "  width: 1rem;\n",
       "  text-decoration: none;\n",
       "  /* unfitted */\n",
       "  color: var(--sklearn-color-unfitted-level-1);\n",
       "  border: var(--sklearn-color-unfitted-level-1) 1pt solid;\n",
       "}\n",
       "\n",
       "#sk-container-id-1 a.estimator_doc_link.fitted {\n",
       "  /* fitted */\n",
       "  border: var(--sklearn-color-fitted-level-1) 1pt solid;\n",
       "  color: var(--sklearn-color-fitted-level-1);\n",
       "}\n",
       "\n",
       "/* On hover */\n",
       "#sk-container-id-1 a.estimator_doc_link:hover {\n",
       "  /* unfitted */\n",
       "  background-color: var(--sklearn-color-unfitted-level-3);\n",
       "  color: var(--sklearn-color-background);\n",
       "  text-decoration: none;\n",
       "}\n",
       "\n",
       "#sk-container-id-1 a.estimator_doc_link.fitted:hover {\n",
       "  /* fitted */\n",
       "  background-color: var(--sklearn-color-fitted-level-3);\n",
       "}\n",
       "</style><div id=\"sk-container-id-1\" class=\"sk-top-container\"><div class=\"sk-text-repr-fallback\"><pre>LGBMClassifier(colsample_bytree=0.9486101030134573,\n",
       "               learning_rate=0.13128119456556495, max_depth=12,\n",
       "               n_estimators=583, n_jobs=-1, num_leaves=77, random_state=42,\n",
       "               reg_alpha=0.0006047096590982023,\n",
       "               reg_lambda=2.5323201438523244e-07, subsample=0.6522935626675963)</pre><b>In a Jupyter environment, please rerun this cell to show the HTML representation or trust the notebook. <br />On GitHub, the HTML representation is unable to render, please try loading this page with nbviewer.org.</b></div><div class=\"sk-container\" hidden><div class=\"sk-item\"><div class=\"sk-estimator fitted sk-toggleable\"><input class=\"sk-toggleable__control sk-hidden--visually\" id=\"sk-estimator-id-1\" type=\"checkbox\" checked><label for=\"sk-estimator-id-1\" class=\"sk-toggleable__label fitted sk-toggleable__label-arrow fitted\">&nbsp;LGBMClassifier<span class=\"sk-estimator-doc-link fitted\">i<span>Fitted</span></span></label><div class=\"sk-toggleable__content fitted\"><pre>LGBMClassifier(colsample_bytree=0.9486101030134573,\n",
       "               learning_rate=0.13128119456556495, max_depth=12,\n",
       "               n_estimators=583, n_jobs=-1, num_leaves=77, random_state=42,\n",
       "               reg_alpha=0.0006047096590982023,\n",
       "               reg_lambda=2.5323201438523244e-07, subsample=0.6522935626675963)</pre></div> </div></div></div></div>"
      ],
      "text/plain": [
       "LGBMClassifier(colsample_bytree=0.9486101030134573,\n",
       "               learning_rate=0.13128119456556495, max_depth=12,\n",
       "               n_estimators=583, n_jobs=-1, num_leaves=77, random_state=42,\n",
       "               reg_alpha=0.0006047096590982023,\n",
       "               reg_lambda=2.5323201438523244e-07, subsample=0.6522935626675963)"
      ]
     },
     "execution_count": 22,
     "metadata": {},
     "output_type": "execute_result"
    }
   ],
   "source": [
    "best_params = study.best_params\n",
    "final_model = lgb.LGBMClassifier(**best_params, n_jobs=-1, random_state=42)\n",
    "final_model.fit(X_train, y_train)\n"
   ]
  },
  {
   "cell_type": "code",
   "execution_count": 0,
   "metadata": {
    "application/vnd.databricks.v1+cell": {
     "cellMetadata": {
      "byteLimit": 2048000,
      "rowLimit": 10000
     },
     "inputWidgets": {},
     "nuid": "f28493d5-488d-410a-9b2a-a76f82693ca4",
     "showTitle": false,
     "tableResultSettingsMap": {},
     "title": ""
    }
   },
   "outputs": [
    {
     "output_type": "stream",
     "name": "stdout",
     "output_type": "stream",
     "text": [
      "Test AUC: 0.9842300556586271\n"
     ]
    }
   ],
   "source": [
    "from sklearn.metrics import roc_auc_score\n",
    "y_prob = final_model.predict_proba(X_test)[:, 1]\n",
    "print(\"Test AUC:\", roc_auc_score(y_test, y_prob))\n"
   ]
  },
  {
   "cell_type": "code",
   "execution_count": 0,
   "metadata": {
    "application/vnd.databricks.v1+cell": {
     "cellMetadata": {
      "byteLimit": 2048000,
      "rowLimit": 10000
     },
     "inputWidgets": {},
     "nuid": "b8daa3de-c2c6-42ae-a94a-e0758b191d17",
     "showTitle": false,
     "tableResultSettingsMap": {},
     "title": ""
    }
   },
   "outputs": [
    {
     "output_type": "stream",
     "name": "stdout",
     "output_type": "stream",
     "text": [
      "✅ Feature list saved as feature_list.json\n"
     ]
    }
   ],
   "source": [
    "import json\n",
    "\n",
    "with open(\"feature_list.json\", \"w\") as f:\n",
    "    json.dump(feature_cols, f)\n",
    "\n",
    "print(\"✅ Feature list saved as feature_list.json\")\n"
   ]
  },
  {
   "cell_type": "code",
   "execution_count": 0,
   "metadata": {
    "application/vnd.databricks.v1+cell": {
     "cellMetadata": {
      "byteLimit": 2048000,
      "rowLimit": 10000
     },
     "inputWidgets": {},
     "nuid": "15208829-cb56-4114-8d2e-e91b5b945450",
     "showTitle": false,
     "tableResultSettingsMap": {},
     "title": ""
    }
   },
   "outputs": [],
   "source": [
    "#dbutils.library.restartPython()\n"
   ]
  },
  {
   "cell_type": "code",
   "execution_count": 0,
   "metadata": {
    "application/vnd.databricks.v1+cell": {
     "cellMetadata": {
      "byteLimit": 2048000,
      "rowLimit": 10000
     },
     "inputWidgets": {},
     "nuid": "7da87d6f-2cff-422f-9df8-a70b47d57003",
     "showTitle": false,
     "tableResultSettingsMap": {},
     "title": ""
    }
   },
   "outputs": [
    {
     "output_type": "stream",
     "name": "stdout",
     "output_type": "stream",
     "text": [
      "Feature count: 32\nFirst few: ['V1', 'V2', 'V3', 'V4', 'V5']\n"
     ]
    }
   ],
   "source": [
    "with open(\"feature_list.json\") as f:\n",
    "    features = json.load(f)\n",
    "print(\"Feature count:\", len(features))\n",
    "print(\"First few:\", features[:5])\n"
   ]
  },
  {
   "cell_type": "code",
   "execution_count": 0,
   "metadata": {
    "application/vnd.databricks.v1+cell": {
     "cellMetadata": {
      "byteLimit": 2048000,
      "rowLimit": 10000
     },
     "inputWidgets": {},
     "nuid": "93581bce-0636-4453-934f-dfdceaa59407",
     "showTitle": false,
     "tableResultSettingsMap": {},
     "title": ""
    }
   },
   "outputs": [],
   "source": [
    "import joblib\n",
    "import pandas as pd\n",
    "import json\n",
    "\n",
    "# Load model\n",
    "model = joblib.load(\"fraud_model_gradboost_lightgbm.pkl\")\n",
    "\n",
    "# Load feature order\n",
    "with open(\"feature_list.json\") as f:\n",
    "    feature_cols = json.load(f)\n",
    "\n",
    "def predict_transaction(features):\n",
    "    \"\"\"\n",
    "    features: list of numeric values in the same order as feature_cols\n",
    "    \"\"\"\n",
    "    df = pd.DataFrame([features], columns=feature_cols)\n",
    "    prob = model.predict_proba(df)[0][1]\n",
    "    pred = int(prob >= 0.5)\n",
    "    return {\"fraud_probability\": float(prob), \"prediction\": pred}\n"
   ]
  },
  {
   "cell_type": "code",
   "execution_count": 0,
   "metadata": {
    "application/vnd.databricks.v1+cell": {
     "cellMetadata": {
      "byteLimit": 2048000,
      "rowLimit": 10000
     },
     "inputWidgets": {},
     "nuid": "99007a7f-5ef0-4b69-a5f9-8ad7b64d82f6",
     "showTitle": false,
     "tableResultSettingsMap": {},
     "title": ""
    }
   },
   "outputs": [
    {
     "output_type": "stream",
     "name": "stdout",
     "output_type": "stream",
     "text": [
      "{'fraud_probability': 0.006749602080437404, 'prediction': 0}\n"
     ]
    }
   ],
   "source": [
    "sample_input = [0.2 for _ in range(len(feature_cols))]  # Dummy input\n",
    "print(predict_transaction(sample_input))\n"
   ]
  }
 ],
 "metadata": {
  "application/vnd.databricks.v1+notebook": {
   "computePreferences": null,
   "dashboards": [],
   "environmentMetadata": {
    "base_environment": "",
    "environment_version": "3"
   },
   "inputWidgetPreferences": null,
   "language": "python",
   "notebookMetadata": {
    "pythonIndentUnit": 4
   },
   "notebookName": "fraud_detection",
   "widgets": {}
  },
  "language_info": {
   "name": "python"
  }
 },
 "nbformat": 4,
 "nbformat_minor": 0
}